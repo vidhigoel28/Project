{
  "metadata": {
    "kernelspec": {
      "display_name": "Python 3",
      "language": "python",
      "name": "python3"
    },
    "language_info": {
      "codemirror_mode": {
        "name": "ipython",
        "version": 3
      },
      "file_extension": ".py",
      "mimetype": "text/x-python",
      "name": "python",
      "nbconvert_exporter": "python",
      "pygments_lexer": "ipython3",
      "version": "3.9.12"
    },
    "colab": {
      "provenance": []
    }
  },
  "nbformat_minor": 0,
  "nbformat": 4,
  "cells": [
    {
      "cell_type": "markdown",
      "source": [
        "##Objective\n",
        "\n",
        "-Visualize the distribution of the data for different user types. This could help in identifying patterns in how different user types watch Netflix.\n",
        "\n",
        "-Cluster the data and visualize the clusters. This could help in  identifying the different types of Netflix users.\n",
        "\n",
        "-Identify the factors that are most important for predicting a user's Netflix type. This could help Netflix to improve its recommendations.\n",
        "\n",
        "-Develop a model that predicts which users are most likely to churn. This could help Netflix to prevent users from churning.\n",
        "\n",
        "In this notebook, we will analyze the Netflix userbase and draw conclusions based on the dataset. Our analysis will address a variety of intriguing questions related to this dataset.\n"
      ],
      "metadata": {
        "id": "ItNcdqlMYu9s"
      }
    },
    {
      "cell_type": "markdown",
      "source": [
        "## Libraries"
      ],
      "metadata": {
        "id": "shT6zgiyizYw"
      }
    },
    {
      "cell_type": "code",
      "source": [
        "pip install scikit-learn\n"
      ],
      "metadata": {
        "colab": {
          "base_uri": "https://localhost:8080/"
        },
        "id": "adBGa0LnbpGW",
        "outputId": "d091a702-5057-4077-db45-8badd42cebec"
      },
      "execution_count": null,
      "outputs": [
        {
          "output_type": "stream",
          "name": "stdout",
          "text": [
            "Requirement already satisfied: scikit-learn in /usr/local/lib/python3.10/dist-packages (1.2.2)\n",
            "Requirement already satisfied: numpy>=1.17.3 in /usr/local/lib/python3.10/dist-packages (from scikit-learn) (1.23.5)\n",
            "Requirement already satisfied: scipy>=1.3.2 in /usr/local/lib/python3.10/dist-packages (from scikit-learn) (1.10.1)\n",
            "Requirement already satisfied: joblib>=1.1.1 in /usr/local/lib/python3.10/dist-packages (from scikit-learn) (1.3.2)\n",
            "Requirement already satisfied: threadpoolctl>=2.0.0 in /usr/local/lib/python3.10/dist-packages (from scikit-learn) (3.2.0)\n"
          ]
        }
      ]
    },
    {
      "cell_type": "code",
      "source": [
        "# Data Loading Code Runs At This Point\n",
        "\n",
        "\n",
        "import pandas as pd\n",
        "\n",
        "\n",
        "# 1.0.1\n",
        "from sklearn.tree import DecisionTreeRegressor\n",
        "from sklearn.model_selection import train_test_split\n",
        "from sklearn.metrics import mean_absolute_error,accuracy_score\n",
        "\n",
        "# 1.0.2\n",
        "from pathlib import Path"
      ],
      "metadata": {
        "id": "lOOiQouqaOak"
      },
      "execution_count": null,
      "outputs": []
    },
    {
      "cell_type": "code",
      "source": [
        "from sklearn.preprocessing import LabelEncoder\n",
        "from scipy.stats import chi2_contingency\n",
        "from sklearn.cluster import KMeans\n",
        "import matplotlib.pyplot as plt\n",
        "import plotly.express as px\n",
        "import seaborn as sns\n",
        "import datetime\n",
        "from sklearn.model_selection import train_test_split\n",
        "from sklearn.ensemble import RandomForestClassifier\n",
        "from sklearn.datasets import load_iris\n",
        "from sklearn.metrics import accuracy_score\n",
        "from sklearn.tree import DecisionTreeClassifier"
      ],
      "metadata": {
        "execution": {
          "iopub.execute_input": "2023-08-06T12:49:20.344589Z",
          "iopub.status.busy": "2023-08-06T12:49:20.343717Z",
          "iopub.status.idle": "2023-08-06T12:49:20.352560Z",
          "shell.execute_reply": "2023-08-06T12:49:20.351217Z",
          "shell.execute_reply.started": "2023-08-06T12:49:20.344438Z"
        },
        "jupyter": {
          "source_hidden": true
        },
        "trusted": true,
        "id": "ayITNBFHYu9v"
      },
      "execution_count": 43,
      "outputs": []
    },
    {
      "cell_type": "markdown",
      "source": [
        "Let's have a look at the dataset."
      ],
      "metadata": {
        "id": "5J8HFVehYu9x"
      }
    },
    {
      "cell_type": "markdown",
      "source": [
        "# Dataset preprocessing"
      ],
      "metadata": {
        "id": "Si2eal8gYu9x"
      }
    },
    {
      "cell_type": "code",
      "source": [
        "# Display from a cell outputs of multiple commands:\n",
        "\n",
        "from IPython.core.interactiveshell import InteractiveShell\n",
        "InteractiveShell.ast_node_interactivity = \"all\"\n",
        "# Shows output for all possible commands in a cell"
      ],
      "metadata": {
        "id": "pSFNgZqOZ_xF"
      },
      "execution_count": null,
      "outputs": []
    },
    {
      "cell_type": "code",
      "source": [
        "df = pd.read_csv('/content/drive/MyDrive/netflix.csv', index_col='User ID')\n",
        "df.sample(7)"
      ],
      "metadata": {
        "jupyter": {
          "source_hidden": true
        },
        "id": "oH2-UkJiYu9x",
        "outputId": "ea2483d7-7ae1-42b3-98fd-0fe50f18dede",
        "colab": {
          "base_uri": "https://localhost:8080/",
          "height": 473
        }
      },
      "execution_count": 12,
      "outputs": [
        {
          "output_type": "execute_result",
          "data": {
            "text/plain": [
              "        Subscription Type  Monthly Revenue   Join Date Last Payment Date  \\\n",
              "User ID                                                                    \n",
              "2035              Premium               11  04-11-2022        10-07-2023   \n",
              "1871                Basic               10  15-08-2022        06-07-2023   \n",
              "2446              Premium               11  18-10-2022        12-07-2023   \n",
              "582                 Basic               12  16-07-2022        28-06-2023   \n",
              "1653             Standard               13  01-07-2022        06-07-2023   \n",
              "87                Premium               15  28-12-2021        23-06-2023   \n",
              "2402              Premium               12  05-10-2022        11-07-2023   \n",
              "\n",
              "               Country  Age  Gender      Device Plan Duration  \n",
              "User ID                                                        \n",
              "2035     United States   51  Female    Smart TV       1 Month  \n",
              "1871     United States   43  Female    Smart TV       1 Month  \n",
              "2446            France   46    Male      Tablet       1 Month  \n",
              "582             Canada   43  Female      Laptop       1 Month  \n",
              "1653            Mexico   32    Male  Smartphone       1 Month  \n",
              "87              Brazil   45    Male    Smart TV       1 Month  \n",
              "2402            Brazil   47  Female  Smartphone       1 Month  "
            ],
            "text/html": [
              "\n",
              "  <div id=\"df-50265de7-9616-47be-9861-007952cd8609\" class=\"colab-df-container\">\n",
              "    <div>\n",
              "<style scoped>\n",
              "    .dataframe tbody tr th:only-of-type {\n",
              "        vertical-align: middle;\n",
              "    }\n",
              "\n",
              "    .dataframe tbody tr th {\n",
              "        vertical-align: top;\n",
              "    }\n",
              "\n",
              "    .dataframe thead th {\n",
              "        text-align: right;\n",
              "    }\n",
              "</style>\n",
              "<table border=\"1\" class=\"dataframe\">\n",
              "  <thead>\n",
              "    <tr style=\"text-align: right;\">\n",
              "      <th></th>\n",
              "      <th>Subscription Type</th>\n",
              "      <th>Monthly Revenue</th>\n",
              "      <th>Join Date</th>\n",
              "      <th>Last Payment Date</th>\n",
              "      <th>Country</th>\n",
              "      <th>Age</th>\n",
              "      <th>Gender</th>\n",
              "      <th>Device</th>\n",
              "      <th>Plan Duration</th>\n",
              "    </tr>\n",
              "    <tr>\n",
              "      <th>User ID</th>\n",
              "      <th></th>\n",
              "      <th></th>\n",
              "      <th></th>\n",
              "      <th></th>\n",
              "      <th></th>\n",
              "      <th></th>\n",
              "      <th></th>\n",
              "      <th></th>\n",
              "      <th></th>\n",
              "    </tr>\n",
              "  </thead>\n",
              "  <tbody>\n",
              "    <tr>\n",
              "      <th>2035</th>\n",
              "      <td>Premium</td>\n",
              "      <td>11</td>\n",
              "      <td>04-11-2022</td>\n",
              "      <td>10-07-2023</td>\n",
              "      <td>United States</td>\n",
              "      <td>51</td>\n",
              "      <td>Female</td>\n",
              "      <td>Smart TV</td>\n",
              "      <td>1 Month</td>\n",
              "    </tr>\n",
              "    <tr>\n",
              "      <th>1871</th>\n",
              "      <td>Basic</td>\n",
              "      <td>10</td>\n",
              "      <td>15-08-2022</td>\n",
              "      <td>06-07-2023</td>\n",
              "      <td>United States</td>\n",
              "      <td>43</td>\n",
              "      <td>Female</td>\n",
              "      <td>Smart TV</td>\n",
              "      <td>1 Month</td>\n",
              "    </tr>\n",
              "    <tr>\n",
              "      <th>2446</th>\n",
              "      <td>Premium</td>\n",
              "      <td>11</td>\n",
              "      <td>18-10-2022</td>\n",
              "      <td>12-07-2023</td>\n",
              "      <td>France</td>\n",
              "      <td>46</td>\n",
              "      <td>Male</td>\n",
              "      <td>Tablet</td>\n",
              "      <td>1 Month</td>\n",
              "    </tr>\n",
              "    <tr>\n",
              "      <th>582</th>\n",
              "      <td>Basic</td>\n",
              "      <td>12</td>\n",
              "      <td>16-07-2022</td>\n",
              "      <td>28-06-2023</td>\n",
              "      <td>Canada</td>\n",
              "      <td>43</td>\n",
              "      <td>Female</td>\n",
              "      <td>Laptop</td>\n",
              "      <td>1 Month</td>\n",
              "    </tr>\n",
              "    <tr>\n",
              "      <th>1653</th>\n",
              "      <td>Standard</td>\n",
              "      <td>13</td>\n",
              "      <td>01-07-2022</td>\n",
              "      <td>06-07-2023</td>\n",
              "      <td>Mexico</td>\n",
              "      <td>32</td>\n",
              "      <td>Male</td>\n",
              "      <td>Smartphone</td>\n",
              "      <td>1 Month</td>\n",
              "    </tr>\n",
              "    <tr>\n",
              "      <th>87</th>\n",
              "      <td>Premium</td>\n",
              "      <td>15</td>\n",
              "      <td>28-12-2021</td>\n",
              "      <td>23-06-2023</td>\n",
              "      <td>Brazil</td>\n",
              "      <td>45</td>\n",
              "      <td>Male</td>\n",
              "      <td>Smart TV</td>\n",
              "      <td>1 Month</td>\n",
              "    </tr>\n",
              "    <tr>\n",
              "      <th>2402</th>\n",
              "      <td>Premium</td>\n",
              "      <td>12</td>\n",
              "      <td>05-10-2022</td>\n",
              "      <td>11-07-2023</td>\n",
              "      <td>Brazil</td>\n",
              "      <td>47</td>\n",
              "      <td>Female</td>\n",
              "      <td>Smartphone</td>\n",
              "      <td>1 Month</td>\n",
              "    </tr>\n",
              "  </tbody>\n",
              "</table>\n",
              "</div>\n",
              "    <div class=\"colab-df-buttons\">\n",
              "\n",
              "  <div class=\"colab-df-container\">\n",
              "    <button class=\"colab-df-convert\" onclick=\"convertToInteractive('df-50265de7-9616-47be-9861-007952cd8609')\"\n",
              "            title=\"Convert this dataframe to an interactive table.\"\n",
              "            style=\"display:none;\">\n",
              "\n",
              "  <svg xmlns=\"http://www.w3.org/2000/svg\" height=\"24px\" viewBox=\"0 -960 960 960\">\n",
              "    <path d=\"M120-120v-720h720v720H120Zm60-500h600v-160H180v160Zm220 220h160v-160H400v160Zm0 220h160v-160H400v160ZM180-400h160v-160H180v160Zm440 0h160v-160H620v160ZM180-180h160v-160H180v160Zm440 0h160v-160H620v160Z\"/>\n",
              "  </svg>\n",
              "    </button>\n",
              "\n",
              "  <style>\n",
              "    .colab-df-container {\n",
              "      display:flex;\n",
              "      gap: 12px;\n",
              "    }\n",
              "\n",
              "    .colab-df-convert {\n",
              "      background-color: #E8F0FE;\n",
              "      border: none;\n",
              "      border-radius: 50%;\n",
              "      cursor: pointer;\n",
              "      display: none;\n",
              "      fill: #1967D2;\n",
              "      height: 32px;\n",
              "      padding: 0 0 0 0;\n",
              "      width: 32px;\n",
              "    }\n",
              "\n",
              "    .colab-df-convert:hover {\n",
              "      background-color: #E2EBFA;\n",
              "      box-shadow: 0px 1px 2px rgba(60, 64, 67, 0.3), 0px 1px 3px 1px rgba(60, 64, 67, 0.15);\n",
              "      fill: #174EA6;\n",
              "    }\n",
              "\n",
              "    .colab-df-buttons div {\n",
              "      margin-bottom: 4px;\n",
              "    }\n",
              "\n",
              "    [theme=dark] .colab-df-convert {\n",
              "      background-color: #3B4455;\n",
              "      fill: #D2E3FC;\n",
              "    }\n",
              "\n",
              "    [theme=dark] .colab-df-convert:hover {\n",
              "      background-color: #434B5C;\n",
              "      box-shadow: 0px 1px 3px 1px rgba(0, 0, 0, 0.15);\n",
              "      filter: drop-shadow(0px 1px 2px rgba(0, 0, 0, 0.3));\n",
              "      fill: #FFFFFF;\n",
              "    }\n",
              "  </style>\n",
              "\n",
              "    <script>\n",
              "      const buttonEl =\n",
              "        document.querySelector('#df-50265de7-9616-47be-9861-007952cd8609 button.colab-df-convert');\n",
              "      buttonEl.style.display =\n",
              "        google.colab.kernel.accessAllowed ? 'block' : 'none';\n",
              "\n",
              "      async function convertToInteractive(key) {\n",
              "        const element = document.querySelector('#df-50265de7-9616-47be-9861-007952cd8609');\n",
              "        const dataTable =\n",
              "          await google.colab.kernel.invokeFunction('convertToInteractive',\n",
              "                                                    [key], {});\n",
              "        if (!dataTable) return;\n",
              "\n",
              "        const docLinkHtml = 'Like what you see? Visit the ' +\n",
              "          '<a target=\"_blank\" href=https://colab.research.google.com/notebooks/data_table.ipynb>data table notebook</a>'\n",
              "          + ' to learn more about interactive tables.';\n",
              "        element.innerHTML = '';\n",
              "        dataTable['output_type'] = 'display_data';\n",
              "        await google.colab.output.renderOutput(dataTable, element);\n",
              "        const docLink = document.createElement('div');\n",
              "        docLink.innerHTML = docLinkHtml;\n",
              "        element.appendChild(docLink);\n",
              "      }\n",
              "    </script>\n",
              "  </div>\n",
              "\n",
              "\n",
              "<div id=\"df-58eee272-6727-4e11-a110-ec9203b1b431\">\n",
              "  <button class=\"colab-df-quickchart\" onclick=\"quickchart('df-58eee272-6727-4e11-a110-ec9203b1b431')\"\n",
              "            title=\"Suggest charts.\"\n",
              "            style=\"display:none;\">\n",
              "\n",
              "<svg xmlns=\"http://www.w3.org/2000/svg\" height=\"24px\"viewBox=\"0 0 24 24\"\n",
              "     width=\"24px\">\n",
              "    <g>\n",
              "        <path d=\"M19 3H5c-1.1 0-2 .9-2 2v14c0 1.1.9 2 2 2h14c1.1 0 2-.9 2-2V5c0-1.1-.9-2-2-2zM9 17H7v-7h2v7zm4 0h-2V7h2v10zm4 0h-2v-4h2v4z\"/>\n",
              "    </g>\n",
              "</svg>\n",
              "  </button>\n",
              "\n",
              "<style>\n",
              "  .colab-df-quickchart {\n",
              "    background-color: #E8F0FE;\n",
              "    border: none;\n",
              "    border-radius: 50%;\n",
              "    cursor: pointer;\n",
              "    display: none;\n",
              "    fill: #1967D2;\n",
              "    height: 32px;\n",
              "    padding: 0 0 0 0;\n",
              "    width: 32px;\n",
              "  }\n",
              "\n",
              "  .colab-df-quickchart:hover {\n",
              "    background-color: #E2EBFA;\n",
              "    box-shadow: 0px 1px 2px rgba(60, 64, 67, 0.3), 0px 1px 3px 1px rgba(60, 64, 67, 0.15);\n",
              "    fill: #174EA6;\n",
              "  }\n",
              "\n",
              "  [theme=dark] .colab-df-quickchart {\n",
              "    background-color: #3B4455;\n",
              "    fill: #D2E3FC;\n",
              "  }\n",
              "\n",
              "  [theme=dark] .colab-df-quickchart:hover {\n",
              "    background-color: #434B5C;\n",
              "    box-shadow: 0px 1px 3px 1px rgba(0, 0, 0, 0.15);\n",
              "    filter: drop-shadow(0px 1px 2px rgba(0, 0, 0, 0.3));\n",
              "    fill: #FFFFFF;\n",
              "  }\n",
              "</style>\n",
              "\n",
              "  <script>\n",
              "    async function quickchart(key) {\n",
              "      const charts = await google.colab.kernel.invokeFunction(\n",
              "          'suggestCharts', [key], {});\n",
              "    }\n",
              "    (() => {\n",
              "      let quickchartButtonEl =\n",
              "        document.querySelector('#df-58eee272-6727-4e11-a110-ec9203b1b431 button');\n",
              "      quickchartButtonEl.style.display =\n",
              "        google.colab.kernel.accessAllowed ? 'block' : 'none';\n",
              "    })();\n",
              "  </script>\n",
              "</div>\n",
              "    </div>\n",
              "  </div>\n"
            ]
          },
          "metadata": {},
          "execution_count": 12
        }
      ]
    },
    {
      "cell_type": "code",
      "source": [
        "from google.colab import drive\n",
        "drive.mount('/content/drive')"
      ],
      "metadata": {
        "colab": {
          "base_uri": "https://localhost:8080/"
        },
        "id": "E4dWw0xYkHMD",
        "outputId": "3e916222-565e-4864-9e77-803360226816"
      },
      "execution_count": null,
      "outputs": [
        {
          "output_type": "stream",
          "name": "stdout",
          "text": [
            "Drive already mounted at /content/drive; to attempt to forcibly remount, call drive.mount(\"/content/drive\", force_remount=True).\n"
          ]
        }
      ]
    },
    {
      "cell_type": "markdown",
      "source": [
        "First of all, Let's pay attention that dataset consists of nine independent variables which are:\n",
        " - Subscription Type: ['Basic', 'Premium', 'Standard']\n",
        " - Monthly Revenue: total amount of money generated by a user within a single month (solely based on the chosen subscription type)\n",
        " - Join Date: when a user signs up (marks the beginning of user subscription period)\n",
        " - Last Payment Date: marks the end of user subscription period\n",
        " - Country\n",
        " - Age\n",
        " - Gender ['Male', 'Female']\n",
        " - Device ['Smartphone', 'Tablet', 'Smart TV', 'Laptop']\n",
        " - Plan Duration ['1 Month']"
      ],
      "metadata": {
        "id": "-sxjp3GdYu9y"
      }
    },
    {
      "cell_type": "markdown",
      "source": [
        "We can see that names of some columns are too long. Let's shorten and adjust them."
      ],
      "metadata": {
        "id": "lKhyzM9lYu9z"
      }
    },
    {
      "cell_type": "code",
      "source": [
        "df.rename(\n",
        "    columns={\n",
        "        'Subscription Type': 'Sub_type',\n",
        "        'Monthly Revenue': 'Monthly_revenue',\n",
        "        'Join Date': 'First_sub_date',\n",
        "        'Last Payment Date': 'Last_sub_date',\n",
        "        'Plan Duration': 'Plan_duration',\n",
        "    },\n",
        "    inplace=True\n",
        ")\n",
        "\n",
        "df.index.rename('ID', inplace=True)\n",
        "\n",
        "df.sample(7)"
      ],
      "metadata": {
        "jupyter": {
          "source_hidden": true
        },
        "id": "eSGCI0dTYu9z",
        "outputId": "6c51984e-b844-4645-8c6d-fac8148654e3",
        "colab": {
          "base_uri": "https://localhost:8080/",
          "height": 337
        }
      },
      "execution_count": 14,
      "outputs": [
        {
          "output_type": "execute_result",
          "data": {
            "text/plain": [
              "      Sub_type  Monthly_revenue First_sub_date Last_sub_date        Country  \\\n",
              "ID                                                                            \n",
              "738   Standard               14     26-06-2022    01-07-2023         Mexico   \n",
              "2197     Basic               11     13-08-2022    10-07-2023          Spain   \n",
              "197      Basic               14     27-09-2022    23-06-2023         Brazil   \n",
              "2377     Basic               14     20-10-2022    12-07-2023          Spain   \n",
              "1936   Premium               13     15-07-2022    10-07-2023         France   \n",
              "1555     Basic               13     31-10-2022    04-07-2023  United States   \n",
              "570      Basic               10     20-11-2022    30-06-2023        Germany   \n",
              "\n",
              "      Age  Gender      Device Plan_duration  \n",
              "ID                                           \n",
              "738    44  Female  Smartphone       1 Month  \n",
              "2197   28    Male  Smartphone       1 Month  \n",
              "197    45    Male      Tablet       1 Month  \n",
              "2377   50  Female      Tablet       1 Month  \n",
              "1936   36    Male      Laptop       1 Month  \n",
              "1555   43  Female  Smartphone       1 Month  \n",
              "570    41  Female      Laptop       1 Month  "
            ],
            "text/html": [
              "\n",
              "  <div id=\"df-32c006c8-e189-460f-b794-446bf431ecdb\" class=\"colab-df-container\">\n",
              "    <div>\n",
              "<style scoped>\n",
              "    .dataframe tbody tr th:only-of-type {\n",
              "        vertical-align: middle;\n",
              "    }\n",
              "\n",
              "    .dataframe tbody tr th {\n",
              "        vertical-align: top;\n",
              "    }\n",
              "\n",
              "    .dataframe thead th {\n",
              "        text-align: right;\n",
              "    }\n",
              "</style>\n",
              "<table border=\"1\" class=\"dataframe\">\n",
              "  <thead>\n",
              "    <tr style=\"text-align: right;\">\n",
              "      <th></th>\n",
              "      <th>Sub_type</th>\n",
              "      <th>Monthly_revenue</th>\n",
              "      <th>First_sub_date</th>\n",
              "      <th>Last_sub_date</th>\n",
              "      <th>Country</th>\n",
              "      <th>Age</th>\n",
              "      <th>Gender</th>\n",
              "      <th>Device</th>\n",
              "      <th>Plan_duration</th>\n",
              "    </tr>\n",
              "    <tr>\n",
              "      <th>ID</th>\n",
              "      <th></th>\n",
              "      <th></th>\n",
              "      <th></th>\n",
              "      <th></th>\n",
              "      <th></th>\n",
              "      <th></th>\n",
              "      <th></th>\n",
              "      <th></th>\n",
              "      <th></th>\n",
              "    </tr>\n",
              "  </thead>\n",
              "  <tbody>\n",
              "    <tr>\n",
              "      <th>738</th>\n",
              "      <td>Standard</td>\n",
              "      <td>14</td>\n",
              "      <td>26-06-2022</td>\n",
              "      <td>01-07-2023</td>\n",
              "      <td>Mexico</td>\n",
              "      <td>44</td>\n",
              "      <td>Female</td>\n",
              "      <td>Smartphone</td>\n",
              "      <td>1 Month</td>\n",
              "    </tr>\n",
              "    <tr>\n",
              "      <th>2197</th>\n",
              "      <td>Basic</td>\n",
              "      <td>11</td>\n",
              "      <td>13-08-2022</td>\n",
              "      <td>10-07-2023</td>\n",
              "      <td>Spain</td>\n",
              "      <td>28</td>\n",
              "      <td>Male</td>\n",
              "      <td>Smartphone</td>\n",
              "      <td>1 Month</td>\n",
              "    </tr>\n",
              "    <tr>\n",
              "      <th>197</th>\n",
              "      <td>Basic</td>\n",
              "      <td>14</td>\n",
              "      <td>27-09-2022</td>\n",
              "      <td>23-06-2023</td>\n",
              "      <td>Brazil</td>\n",
              "      <td>45</td>\n",
              "      <td>Male</td>\n",
              "      <td>Tablet</td>\n",
              "      <td>1 Month</td>\n",
              "    </tr>\n",
              "    <tr>\n",
              "      <th>2377</th>\n",
              "      <td>Basic</td>\n",
              "      <td>14</td>\n",
              "      <td>20-10-2022</td>\n",
              "      <td>12-07-2023</td>\n",
              "      <td>Spain</td>\n",
              "      <td>50</td>\n",
              "      <td>Female</td>\n",
              "      <td>Tablet</td>\n",
              "      <td>1 Month</td>\n",
              "    </tr>\n",
              "    <tr>\n",
              "      <th>1936</th>\n",
              "      <td>Premium</td>\n",
              "      <td>13</td>\n",
              "      <td>15-07-2022</td>\n",
              "      <td>10-07-2023</td>\n",
              "      <td>France</td>\n",
              "      <td>36</td>\n",
              "      <td>Male</td>\n",
              "      <td>Laptop</td>\n",
              "      <td>1 Month</td>\n",
              "    </tr>\n",
              "    <tr>\n",
              "      <th>1555</th>\n",
              "      <td>Basic</td>\n",
              "      <td>13</td>\n",
              "      <td>31-10-2022</td>\n",
              "      <td>04-07-2023</td>\n",
              "      <td>United States</td>\n",
              "      <td>43</td>\n",
              "      <td>Female</td>\n",
              "      <td>Smartphone</td>\n",
              "      <td>1 Month</td>\n",
              "    </tr>\n",
              "    <tr>\n",
              "      <th>570</th>\n",
              "      <td>Basic</td>\n",
              "      <td>10</td>\n",
              "      <td>20-11-2022</td>\n",
              "      <td>30-06-2023</td>\n",
              "      <td>Germany</td>\n",
              "      <td>41</td>\n",
              "      <td>Female</td>\n",
              "      <td>Laptop</td>\n",
              "      <td>1 Month</td>\n",
              "    </tr>\n",
              "  </tbody>\n",
              "</table>\n",
              "</div>\n",
              "    <div class=\"colab-df-buttons\">\n",
              "\n",
              "  <div class=\"colab-df-container\">\n",
              "    <button class=\"colab-df-convert\" onclick=\"convertToInteractive('df-32c006c8-e189-460f-b794-446bf431ecdb')\"\n",
              "            title=\"Convert this dataframe to an interactive table.\"\n",
              "            style=\"display:none;\">\n",
              "\n",
              "  <svg xmlns=\"http://www.w3.org/2000/svg\" height=\"24px\" viewBox=\"0 -960 960 960\">\n",
              "    <path d=\"M120-120v-720h720v720H120Zm60-500h600v-160H180v160Zm220 220h160v-160H400v160Zm0 220h160v-160H400v160ZM180-400h160v-160H180v160Zm440 0h160v-160H620v160ZM180-180h160v-160H180v160Zm440 0h160v-160H620v160Z\"/>\n",
              "  </svg>\n",
              "    </button>\n",
              "\n",
              "  <style>\n",
              "    .colab-df-container {\n",
              "      display:flex;\n",
              "      gap: 12px;\n",
              "    }\n",
              "\n",
              "    .colab-df-convert {\n",
              "      background-color: #E8F0FE;\n",
              "      border: none;\n",
              "      border-radius: 50%;\n",
              "      cursor: pointer;\n",
              "      display: none;\n",
              "      fill: #1967D2;\n",
              "      height: 32px;\n",
              "      padding: 0 0 0 0;\n",
              "      width: 32px;\n",
              "    }\n",
              "\n",
              "    .colab-df-convert:hover {\n",
              "      background-color: #E2EBFA;\n",
              "      box-shadow: 0px 1px 2px rgba(60, 64, 67, 0.3), 0px 1px 3px 1px rgba(60, 64, 67, 0.15);\n",
              "      fill: #174EA6;\n",
              "    }\n",
              "\n",
              "    .colab-df-buttons div {\n",
              "      margin-bottom: 4px;\n",
              "    }\n",
              "\n",
              "    [theme=dark] .colab-df-convert {\n",
              "      background-color: #3B4455;\n",
              "      fill: #D2E3FC;\n",
              "    }\n",
              "\n",
              "    [theme=dark] .colab-df-convert:hover {\n",
              "      background-color: #434B5C;\n",
              "      box-shadow: 0px 1px 3px 1px rgba(0, 0, 0, 0.15);\n",
              "      filter: drop-shadow(0px 1px 2px rgba(0, 0, 0, 0.3));\n",
              "      fill: #FFFFFF;\n",
              "    }\n",
              "  </style>\n",
              "\n",
              "    <script>\n",
              "      const buttonEl =\n",
              "        document.querySelector('#df-32c006c8-e189-460f-b794-446bf431ecdb button.colab-df-convert');\n",
              "      buttonEl.style.display =\n",
              "        google.colab.kernel.accessAllowed ? 'block' : 'none';\n",
              "\n",
              "      async function convertToInteractive(key) {\n",
              "        const element = document.querySelector('#df-32c006c8-e189-460f-b794-446bf431ecdb');\n",
              "        const dataTable =\n",
              "          await google.colab.kernel.invokeFunction('convertToInteractive',\n",
              "                                                    [key], {});\n",
              "        if (!dataTable) return;\n",
              "\n",
              "        const docLinkHtml = 'Like what you see? Visit the ' +\n",
              "          '<a target=\"_blank\" href=https://colab.research.google.com/notebooks/data_table.ipynb>data table notebook</a>'\n",
              "          + ' to learn more about interactive tables.';\n",
              "        element.innerHTML = '';\n",
              "        dataTable['output_type'] = 'display_data';\n",
              "        await google.colab.output.renderOutput(dataTable, element);\n",
              "        const docLink = document.createElement('div');\n",
              "        docLink.innerHTML = docLinkHtml;\n",
              "        element.appendChild(docLink);\n",
              "      }\n",
              "    </script>\n",
              "  </div>\n",
              "\n",
              "\n",
              "<div id=\"df-239f472c-0797-4fe6-bc94-85d5252c5abb\">\n",
              "  <button class=\"colab-df-quickchart\" onclick=\"quickchart('df-239f472c-0797-4fe6-bc94-85d5252c5abb')\"\n",
              "            title=\"Suggest charts.\"\n",
              "            style=\"display:none;\">\n",
              "\n",
              "<svg xmlns=\"http://www.w3.org/2000/svg\" height=\"24px\"viewBox=\"0 0 24 24\"\n",
              "     width=\"24px\">\n",
              "    <g>\n",
              "        <path d=\"M19 3H5c-1.1 0-2 .9-2 2v14c0 1.1.9 2 2 2h14c1.1 0 2-.9 2-2V5c0-1.1-.9-2-2-2zM9 17H7v-7h2v7zm4 0h-2V7h2v10zm4 0h-2v-4h2v4z\"/>\n",
              "    </g>\n",
              "</svg>\n",
              "  </button>\n",
              "\n",
              "<style>\n",
              "  .colab-df-quickchart {\n",
              "    background-color: #E8F0FE;\n",
              "    border: none;\n",
              "    border-radius: 50%;\n",
              "    cursor: pointer;\n",
              "    display: none;\n",
              "    fill: #1967D2;\n",
              "    height: 32px;\n",
              "    padding: 0 0 0 0;\n",
              "    width: 32px;\n",
              "  }\n",
              "\n",
              "  .colab-df-quickchart:hover {\n",
              "    background-color: #E2EBFA;\n",
              "    box-shadow: 0px 1px 2px rgba(60, 64, 67, 0.3), 0px 1px 3px 1px rgba(60, 64, 67, 0.15);\n",
              "    fill: #174EA6;\n",
              "  }\n",
              "\n",
              "  [theme=dark] .colab-df-quickchart {\n",
              "    background-color: #3B4455;\n",
              "    fill: #D2E3FC;\n",
              "  }\n",
              "\n",
              "  [theme=dark] .colab-df-quickchart:hover {\n",
              "    background-color: #434B5C;\n",
              "    box-shadow: 0px 1px 3px 1px rgba(0, 0, 0, 0.15);\n",
              "    filter: drop-shadow(0px 1px 2px rgba(0, 0, 0, 0.3));\n",
              "    fill: #FFFFFF;\n",
              "  }\n",
              "</style>\n",
              "\n",
              "  <script>\n",
              "    async function quickchart(key) {\n",
              "      const charts = await google.colab.kernel.invokeFunction(\n",
              "          'suggestCharts', [key], {});\n",
              "    }\n",
              "    (() => {\n",
              "      let quickchartButtonEl =\n",
              "        document.querySelector('#df-239f472c-0797-4fe6-bc94-85d5252c5abb button');\n",
              "      quickchartButtonEl.style.display =\n",
              "        google.colab.kernel.accessAllowed ? 'block' : 'none';\n",
              "    })();\n",
              "  </script>\n",
              "</div>\n",
              "    </div>\n",
              "  </div>\n"
            ]
          },
          "metadata": {},
          "execution_count": 14
        }
      ]
    },
    {
      "cell_type": "markdown",
      "source": [
        "It looks way better than before. Although we shortened column names, we are still able to recognize each meaning easily.\n",
        "\n",
        "Now, we must ensure data integrity and reliability. It is vital for accurate analyses and conclusions."
      ],
      "metadata": {
        "id": "799zSnunYu9z"
      }
    },
    {
      "cell_type": "code",
      "source": [
        "df.isnull().sum()"
      ],
      "metadata": {
        "jupyter": {
          "source_hidden": true
        },
        "id": "6rOPLMRAYu9z",
        "outputId": "dcc4b37c-087a-48f9-af9e-f603f429c7f7",
        "colab": {
          "base_uri": "https://localhost:8080/"
        }
      },
      "execution_count": 15,
      "outputs": [
        {
          "output_type": "execute_result",
          "data": {
            "text/plain": [
              "Sub_type           0\n",
              "Monthly_revenue    0\n",
              "First_sub_date     0\n",
              "Last_sub_date      0\n",
              "Country            0\n",
              "Age                0\n",
              "Gender             0\n",
              "Device             0\n",
              "Plan_duration      0\n",
              "dtype: int64"
            ]
          },
          "metadata": {},
          "execution_count": 15
        }
      ]
    },
    {
      "cell_type": "markdown",
      "source": [
        "Well, a perfect dataset with no missing values – absolutely fantastic!\n",
        "\n",
        "Maybe there are some duplicates in there that we don't want?"
      ],
      "metadata": {
        "id": "BDZsLJkvYu90"
      }
    },
    {
      "cell_type": "code",
      "source": [
        "if df.duplicated().any():\n",
        "    print(\"The same values Found!\")\n",
        "else:\n",
        "    print(\"The same values not found.\")"
      ],
      "metadata": {
        "jupyter": {
          "source_hidden": true
        },
        "id": "NaSQm5FBYu90",
        "outputId": "148d6b0b-0eda-413e-d056-17f1f4579d41",
        "colab": {
          "base_uri": "https://localhost:8080/"
        }
      },
      "execution_count": 16,
      "outputs": [
        {
          "output_type": "stream",
          "name": "stdout",
          "text": [
            "The same values not found.\n"
          ]
        }
      ]
    },
    {
      "cell_type": "markdown",
      "source": [
        "Alright, It looks like our data is quite clean, isn't it?\n",
        "\n",
        "Let's see the sample to gain a better understanding of the data types."
      ],
      "metadata": {
        "id": "JKifQ5znYu91"
      }
    },
    {
      "cell_type": "code",
      "source": [
        "formatted_data = []\n",
        "column_name_width = 20\n",
        "column_value_width = 25\n",
        "\n",
        "for column_name, column_value in df.loc[1].items():\n",
        "    column_dtype = df[column_name].dtype\n",
        "    formatted_data.append(f\"{column_name.ljust(column_name_width)}{str(column_value).ljust(column_value_width)}{column_dtype}\")\n",
        "\n",
        "sample_output = \"\\n\".join(formatted_data)\n",
        "print(sample_output)\n"
      ],
      "metadata": {
        "jupyter": {
          "source_hidden": true
        },
        "id": "nmdvchwIYu91",
        "outputId": "07d97a41-0af3-4bd4-90d1-38086b89af85",
        "colab": {
          "base_uri": "https://localhost:8080/"
        }
      },
      "execution_count": 17,
      "outputs": [
        {
          "output_type": "stream",
          "name": "stdout",
          "text": [
            "Sub_type            Basic                    object\n",
            "Monthly_revenue     10                       int64\n",
            "First_sub_date      15-01-2022               object\n",
            "Last_sub_date       10-06-2023               object\n",
            "Country             United States            object\n",
            "Age                 28                       int64\n",
            "Gender              Male                     object\n",
            "Device              Smartphone               object\n",
            "Plan_duration       1 Month                  object\n"
          ]
        }
      ]
    },
    {
      "cell_type": "markdown",
      "source": [
        "We can see that most of the columns have a type of 'object'. This data type is not desirable when it comes to our analysis.\n",
        "\n",
        "Firstly, we need to change the date format to make calculations easier."
      ],
      "metadata": {
        "id": "cz7IEheVYu91"
      }
    },
    {
      "cell_type": "code",
      "source": [
        "df['First_sub_date'] = pd.to_datetime(df['First_sub_date'], format='%d-%m-%Y')\n",
        "df['Last_sub_date'] = pd.to_datetime(df['Last_sub_date'], format='%d-%m-%Y')\n",
        "\n",
        "df['Sub_period'] = (df['Last_sub_date'] - df['First_sub_date'])\n",
        "df['Sub_period'] = df['Sub_period'].dt.days"
      ],
      "metadata": {
        "jupyter": {
          "source_hidden": true
        },
        "id": "QLqrX_xkYu91"
      },
      "execution_count": 18,
      "outputs": []
    },
    {
      "cell_type": "markdown",
      "source": [
        "When we're trying to sort users into different groups, it's smarter to use numerical values for common features. This way, we can use these numbers to make decisions and find patterns in the data easily.\n",
        "\n"
      ],
      "metadata": {
        "id": "UZ4pr9w2Yu91"
      }
    },
    {
      "cell_type": "code",
      "source": [
        "# Fit the LabelEncoders for each column\n",
        "sub_type_encoder = LabelEncoder()\n",
        "gender_encoder = LabelEncoder()\n",
        "device_encoder = LabelEncoder()\n",
        "\n",
        "train_df = df[['Sub_type', 'Age', 'Gender', 'Device', 'Sub_period']].copy()\n",
        "train_df['Sub_type'] = sub_type_encoder.fit_transform(train_df['Sub_type'])\n",
        "train_df['Gender'] = gender_encoder.fit_transform(train_df['Gender'])\n",
        "train_df['Device'] = device_encoder.fit_transform(train_df['Device'])\n",
        "train_df.sample(7)"
      ],
      "metadata": {
        "jupyter": {
          "source_hidden": true
        },
        "id": "FvX_elQ7Yu92",
        "outputId": "09ae313a-4b02-4b4c-d94e-c4bfc73bffdf",
        "colab": {
          "base_uri": "https://localhost:8080/",
          "height": 300
        }
      },
      "execution_count": 19,
      "outputs": [
        {
          "output_type": "execute_result",
          "data": {
            "text/plain": [
              "      Sub_type  Age  Gender  Device  Sub_period\n",
              "ID                                             \n",
              "1761         1   37       1       1         240\n",
              "1460         0   45       1       1         296\n",
              "71           0   27       1       2         510\n",
              "17           0   30       0       0         517\n",
              "2383         2   35       0       3         247\n",
              "171          1   35       0       3         421\n",
              "471          1   43       1       3         354"
            ],
            "text/html": [
              "\n",
              "  <div id=\"df-aca52cd0-ef96-4eba-b1d4-3f03bf10b189\" class=\"colab-df-container\">\n",
              "    <div>\n",
              "<style scoped>\n",
              "    .dataframe tbody tr th:only-of-type {\n",
              "        vertical-align: middle;\n",
              "    }\n",
              "\n",
              "    .dataframe tbody tr th {\n",
              "        vertical-align: top;\n",
              "    }\n",
              "\n",
              "    .dataframe thead th {\n",
              "        text-align: right;\n",
              "    }\n",
              "</style>\n",
              "<table border=\"1\" class=\"dataframe\">\n",
              "  <thead>\n",
              "    <tr style=\"text-align: right;\">\n",
              "      <th></th>\n",
              "      <th>Sub_type</th>\n",
              "      <th>Age</th>\n",
              "      <th>Gender</th>\n",
              "      <th>Device</th>\n",
              "      <th>Sub_period</th>\n",
              "    </tr>\n",
              "    <tr>\n",
              "      <th>ID</th>\n",
              "      <th></th>\n",
              "      <th></th>\n",
              "      <th></th>\n",
              "      <th></th>\n",
              "      <th></th>\n",
              "    </tr>\n",
              "  </thead>\n",
              "  <tbody>\n",
              "    <tr>\n",
              "      <th>1761</th>\n",
              "      <td>1</td>\n",
              "      <td>37</td>\n",
              "      <td>1</td>\n",
              "      <td>1</td>\n",
              "      <td>240</td>\n",
              "    </tr>\n",
              "    <tr>\n",
              "      <th>1460</th>\n",
              "      <td>0</td>\n",
              "      <td>45</td>\n",
              "      <td>1</td>\n",
              "      <td>1</td>\n",
              "      <td>296</td>\n",
              "    </tr>\n",
              "    <tr>\n",
              "      <th>71</th>\n",
              "      <td>0</td>\n",
              "      <td>27</td>\n",
              "      <td>1</td>\n",
              "      <td>2</td>\n",
              "      <td>510</td>\n",
              "    </tr>\n",
              "    <tr>\n",
              "      <th>17</th>\n",
              "      <td>0</td>\n",
              "      <td>30</td>\n",
              "      <td>0</td>\n",
              "      <td>0</td>\n",
              "      <td>517</td>\n",
              "    </tr>\n",
              "    <tr>\n",
              "      <th>2383</th>\n",
              "      <td>2</td>\n",
              "      <td>35</td>\n",
              "      <td>0</td>\n",
              "      <td>3</td>\n",
              "      <td>247</td>\n",
              "    </tr>\n",
              "    <tr>\n",
              "      <th>171</th>\n",
              "      <td>1</td>\n",
              "      <td>35</td>\n",
              "      <td>0</td>\n",
              "      <td>3</td>\n",
              "      <td>421</td>\n",
              "    </tr>\n",
              "    <tr>\n",
              "      <th>471</th>\n",
              "      <td>1</td>\n",
              "      <td>43</td>\n",
              "      <td>1</td>\n",
              "      <td>3</td>\n",
              "      <td>354</td>\n",
              "    </tr>\n",
              "  </tbody>\n",
              "</table>\n",
              "</div>\n",
              "    <div class=\"colab-df-buttons\">\n",
              "\n",
              "  <div class=\"colab-df-container\">\n",
              "    <button class=\"colab-df-convert\" onclick=\"convertToInteractive('df-aca52cd0-ef96-4eba-b1d4-3f03bf10b189')\"\n",
              "            title=\"Convert this dataframe to an interactive table.\"\n",
              "            style=\"display:none;\">\n",
              "\n",
              "  <svg xmlns=\"http://www.w3.org/2000/svg\" height=\"24px\" viewBox=\"0 -960 960 960\">\n",
              "    <path d=\"M120-120v-720h720v720H120Zm60-500h600v-160H180v160Zm220 220h160v-160H400v160Zm0 220h160v-160H400v160ZM180-400h160v-160H180v160Zm440 0h160v-160H620v160ZM180-180h160v-160H180v160Zm440 0h160v-160H620v160Z\"/>\n",
              "  </svg>\n",
              "    </button>\n",
              "\n",
              "  <style>\n",
              "    .colab-df-container {\n",
              "      display:flex;\n",
              "      gap: 12px;\n",
              "    }\n",
              "\n",
              "    .colab-df-convert {\n",
              "      background-color: #E8F0FE;\n",
              "      border: none;\n",
              "      border-radius: 50%;\n",
              "      cursor: pointer;\n",
              "      display: none;\n",
              "      fill: #1967D2;\n",
              "      height: 32px;\n",
              "      padding: 0 0 0 0;\n",
              "      width: 32px;\n",
              "    }\n",
              "\n",
              "    .colab-df-convert:hover {\n",
              "      background-color: #E2EBFA;\n",
              "      box-shadow: 0px 1px 2px rgba(60, 64, 67, 0.3), 0px 1px 3px 1px rgba(60, 64, 67, 0.15);\n",
              "      fill: #174EA6;\n",
              "    }\n",
              "\n",
              "    .colab-df-buttons div {\n",
              "      margin-bottom: 4px;\n",
              "    }\n",
              "\n",
              "    [theme=dark] .colab-df-convert {\n",
              "      background-color: #3B4455;\n",
              "      fill: #D2E3FC;\n",
              "    }\n",
              "\n",
              "    [theme=dark] .colab-df-convert:hover {\n",
              "      background-color: #434B5C;\n",
              "      box-shadow: 0px 1px 3px 1px rgba(0, 0, 0, 0.15);\n",
              "      filter: drop-shadow(0px 1px 2px rgba(0, 0, 0, 0.3));\n",
              "      fill: #FFFFFF;\n",
              "    }\n",
              "  </style>\n",
              "\n",
              "    <script>\n",
              "      const buttonEl =\n",
              "        document.querySelector('#df-aca52cd0-ef96-4eba-b1d4-3f03bf10b189 button.colab-df-convert');\n",
              "      buttonEl.style.display =\n",
              "        google.colab.kernel.accessAllowed ? 'block' : 'none';\n",
              "\n",
              "      async function convertToInteractive(key) {\n",
              "        const element = document.querySelector('#df-aca52cd0-ef96-4eba-b1d4-3f03bf10b189');\n",
              "        const dataTable =\n",
              "          await google.colab.kernel.invokeFunction('convertToInteractive',\n",
              "                                                    [key], {});\n",
              "        if (!dataTable) return;\n",
              "\n",
              "        const docLinkHtml = 'Like what you see? Visit the ' +\n",
              "          '<a target=\"_blank\" href=https://colab.research.google.com/notebooks/data_table.ipynb>data table notebook</a>'\n",
              "          + ' to learn more about interactive tables.';\n",
              "        element.innerHTML = '';\n",
              "        dataTable['output_type'] = 'display_data';\n",
              "        await google.colab.output.renderOutput(dataTable, element);\n",
              "        const docLink = document.createElement('div');\n",
              "        docLink.innerHTML = docLinkHtml;\n",
              "        element.appendChild(docLink);\n",
              "      }\n",
              "    </script>\n",
              "  </div>\n",
              "\n",
              "\n",
              "<div id=\"df-9ecba69b-5fc4-4492-9b30-587d4a96a680\">\n",
              "  <button class=\"colab-df-quickchart\" onclick=\"quickchart('df-9ecba69b-5fc4-4492-9b30-587d4a96a680')\"\n",
              "            title=\"Suggest charts.\"\n",
              "            style=\"display:none;\">\n",
              "\n",
              "<svg xmlns=\"http://www.w3.org/2000/svg\" height=\"24px\"viewBox=\"0 0 24 24\"\n",
              "     width=\"24px\">\n",
              "    <g>\n",
              "        <path d=\"M19 3H5c-1.1 0-2 .9-2 2v14c0 1.1.9 2 2 2h14c1.1 0 2-.9 2-2V5c0-1.1-.9-2-2-2zM9 17H7v-7h2v7zm4 0h-2V7h2v10zm4 0h-2v-4h2v4z\"/>\n",
              "    </g>\n",
              "</svg>\n",
              "  </button>\n",
              "\n",
              "<style>\n",
              "  .colab-df-quickchart {\n",
              "    background-color: #E8F0FE;\n",
              "    border: none;\n",
              "    border-radius: 50%;\n",
              "    cursor: pointer;\n",
              "    display: none;\n",
              "    fill: #1967D2;\n",
              "    height: 32px;\n",
              "    padding: 0 0 0 0;\n",
              "    width: 32px;\n",
              "  }\n",
              "\n",
              "  .colab-df-quickchart:hover {\n",
              "    background-color: #E2EBFA;\n",
              "    box-shadow: 0px 1px 2px rgba(60, 64, 67, 0.3), 0px 1px 3px 1px rgba(60, 64, 67, 0.15);\n",
              "    fill: #174EA6;\n",
              "  }\n",
              "\n",
              "  [theme=dark] .colab-df-quickchart {\n",
              "    background-color: #3B4455;\n",
              "    fill: #D2E3FC;\n",
              "  }\n",
              "\n",
              "  [theme=dark] .colab-df-quickchart:hover {\n",
              "    background-color: #434B5C;\n",
              "    box-shadow: 0px 1px 3px 1px rgba(0, 0, 0, 0.15);\n",
              "    filter: drop-shadow(0px 1px 2px rgba(0, 0, 0, 0.3));\n",
              "    fill: #FFFFFF;\n",
              "  }\n",
              "</style>\n",
              "\n",
              "  <script>\n",
              "    async function quickchart(key) {\n",
              "      const charts = await google.colab.kernel.invokeFunction(\n",
              "          'suggestCharts', [key], {});\n",
              "    }\n",
              "    (() => {\n",
              "      let quickchartButtonEl =\n",
              "        document.querySelector('#df-9ecba69b-5fc4-4492-9b30-587d4a96a680 button');\n",
              "      quickchartButtonEl.style.display =\n",
              "        google.colab.kernel.accessAllowed ? 'block' : 'none';\n",
              "    })();\n",
              "  </script>\n",
              "</div>\n",
              "    </div>\n",
              "  </div>\n"
            ]
          },
          "metadata": {},
          "execution_count": 19
        }
      ]
    },
    {
      "cell_type": "markdown",
      "source": [
        "Great! We've successfully encoded the 'Sub_type,' 'Gender,' and 'Device' features. Additionally, we've created a 'train_df' to store the most relevant information.\n",
        "\n",
        "# Classifying users\n",
        "Let's classify users using a clustering algorithm -KMeans algorithm.\n",
        "\n",
        "💡**TIP**💡: Inertia tells how far away the points within a cluster are (sum of squared distances)."
      ],
      "metadata": {
        "id": "fr4qImnqYu92"
      }
    },
    {
      "cell_type": "code",
      "source": [
        "\n",
        "inertias = list()\n",
        "for i in range(1,25):\n",
        "    kmeans = KMeans(init = \"k-means++\", n_clusters = i, n_init = 30)\n",
        "    kmeans.fit_transform(train_df) # We are interested in all columns, excluding gender and race\n",
        "    inertias.append(kmeans.inertia_)\n",
        "\n",
        "plt.plot(range(1,25), inertias, marker='o', color = 'black', mec = 'orange', ms = 7)\n",
        "plt.title('Elbow method')\n",
        "plt.xlabel('No. clusters')\n",
        "plt.ylabel('Inertia')\n",
        "plt.show()"
      ],
      "metadata": {
        "jupyter": {
          "source_hidden": true
        },
        "id": "_Str0H_JYu92",
        "outputId": "a4e85a5b-5d38-441e-bb5a-ea38b0b0c523",
        "colab": {
          "base_uri": "https://localhost:8080/",
          "height": 1000
        }
      },
      "execution_count": 20,
      "outputs": [
        {
          "output_type": "execute_result",
          "data": {
            "text/plain": [
              "array([[202.67180202],\n",
              "       [346.40521032],\n",
              "       [189.65074673],\n",
              "       ...,\n",
              "       [ 31.44972073],\n",
              "       [ 27.06649837],\n",
              "       [ 24.70124154]])"
            ]
          },
          "metadata": {},
          "execution_count": 20
        },
        {
          "output_type": "execute_result",
          "data": {
            "text/plain": [
              "array([[251.29442447, 152.10717589],\n",
              "       [395.0860238 , 295.73899465],\n",
              "       [140.97987872, 240.31439165],\n",
              "       ...,\n",
              "       [ 80.09124653,  19.41170219],\n",
              "       [ 74.6787783 ,  26.93037695],\n",
              "       [ 73.16581709,  26.6115116 ]])"
            ]
          },
          "metadata": {},
          "execution_count": 20
        },
        {
          "output_type": "execute_result",
          "data": {
            "text/plain": [
              "array([[160.39687476, 253.04963926,   9.38855529],\n",
              "       [304.04382714, 396.84269325, 147.42152661],\n",
              "       [232.00960333, 139.2236477 , 388.63463013],\n",
              "       ...,\n",
              "       [ 11.20529256,  81.84730664, 167.61227801],\n",
              "       [ 19.30345535,  76.42133216, 173.97521588],\n",
              "       [ 18.46949263,  74.9202798 , 174.60876809]])"
            ]
          },
          "metadata": {},
          "execution_count": 20
        },
        {
          "output_type": "execute_result",
          "data": {
            "text/plain": [
              "array([[246.02324784, 158.40567316, 389.07221072,   9.11588681],\n",
              "       [389.80964457, 302.04725211, 532.94859642, 141.05752157],\n",
              "       [146.25462617, 234.00619691,   5.05438956, 394.9980161 ],\n",
              "       ...,\n",
              "       [ 74.8164336 ,  13.16916691, 217.94429808, 173.97561915],\n",
              "       [ 69.44619486,  21.07690189, 212.17198474, 180.33110582],\n",
              "       [ 67.89778705,  20.42187859, 210.96297457, 180.97000044]])"
            ]
          },
          "metadata": {},
          "execution_count": 20
        },
        {
          "output_type": "execute_result",
          "data": {
            "text/plain": [
              "array([[258.09284994, 145.9152995 , 396.92964972,  10.56447931,\n",
              "        200.4871347 ],\n",
              "       [401.89143044, 289.51276163, 540.81873926, 137.73177921,\n",
              "        344.22013535],\n",
              "       [134.17705118, 246.54148197,   6.59755847, 398.32382441,\n",
              "        191.83584134],\n",
              "       ...,\n",
              "       [ 86.89412639,  25.62610919, 225.81778193, 177.30114263,\n",
              "         29.2716768 ],\n",
              "       [ 81.43864269,  32.77364505, 220.06028215, 183.6563413 ,\n",
              "         25.04957787],\n",
              "       [ 79.96132366,  32.81743786, 218.82849159, 184.2932433 ,\n",
              "         22.53927514]])"
            ]
          },
          "metadata": {},
          "execution_count": 20
        },
        {
          "output_type": "execute_result",
          "data": {
            "text/plain": [
              "array([[141.08029959, 262.23434641, 179.73460443, 402.0581722 ,\n",
              "         11.74456533, 220.01651609],\n",
              "       [284.65703396, 406.03128835, 323.44334747, 545.95609337,\n",
              "        136.08306831, 363.77719336],\n",
              "       [251.39778349, 130.03617621, 212.6117762 ,  11.08611916,\n",
              "        399.97205643, 172.28189617],\n",
              "       ...,\n",
              "       [ 30.47092517,  91.03323762,   8.65818311, 230.95782607,\n",
              "        178.95015238,  48.79888327],\n",
              "       [ 37.44698495,  85.53293919,   9.91887156, 225.21176243,\n",
              "        185.29340497,  43.80632663],\n",
              "       [ 37.64840541,  84.10221855,   4.01652733, 223.96286205,\n",
              "        185.9452767 ,  41.93150279]])"
            ]
          },
          "metadata": {},
          "execution_count": 20
        },
        {
          "output_type": "execute_result",
          "data": {
            "text/plain": [
              "array([[143.74245111, 263.33017229, 182.12936249, ..., 402.0581722 ,\n",
              "         70.75337535, 222.72024102],\n",
              "       [287.32951233, 407.12463311, 325.83287065, ..., 545.95609337,\n",
              "         74.30444963, 366.49388628],\n",
              "       [248.72500752, 128.94146095, 210.22159992, ...,  11.08611916,\n",
              "        461.84248892, 169.56858836],\n",
              "       ...,\n",
              "       [ 27.80459477,  92.12625794,  11.00810841, ..., 230.95782607,\n",
              "        240.84397003,  51.51301124],\n",
              "       [ 34.8639231 ,  86.60755626,  10.58272293, ..., 225.21176243,\n",
              "        246.99220885,  46.51837341],\n",
              "       [ 34.99143253,  85.19830299,   5.48116821, ..., 223.96286205,\n",
              "        247.87594592,  44.61906395]])"
            ]
          },
          "metadata": {},
          "execution_count": 20
        },
        {
          "output_type": "execute_result",
          "data": {
            "text/plain": [
              "array([[271.76866802, 177.58225847,  55.8715545 , ..., 245.02321788,\n",
              "        212.01848685,  70.75337535],\n",
              "       [415.56663328, 321.28291653, 199.30574387, ..., 388.82293341,\n",
              "        355.7598508 ,  74.30444963],\n",
              "       [120.5005672 , 214.77157996, 336.76002057, ..., 147.24733975,\n",
              "        180.29648891, 461.84248892],\n",
              "       ...,\n",
              "       [100.56690436,   6.58975076, 115.73866732, ...,  73.82943645,\n",
              "         40.79303175, 240.84397003],\n",
              "       [ 94.99464328,   9.53103066, 122.31557009, ...,  68.53155307,\n",
              "         35.95709976, 246.99220885],\n",
              "       [ 93.63534486,   3.91540969, 122.71066456, ...,  66.89446593,\n",
              "         33.97956802, 247.87594592]])"
            ]
          },
          "metadata": {},
          "execution_count": 20
        },
        {
          "output_type": "execute_result",
          "data": {
            "text/plain": [
              "array([[177.73410335, 243.46465705, 142.95280383, ..., 211.81371442,\n",
              "         63.02671979, 268.19489092],\n",
              "       [321.43861878, 387.259198  , 286.53231653, ..., 355.5558069 ,\n",
              "        206.39221203, 411.99212887],\n",
              "       [214.61622907, 148.80881547, 249.52256782, ..., 180.50069458,\n",
              "        329.66378608, 124.07486933],\n",
              "       ...,\n",
              "       [  6.73224033,  72.26546297,  28.60405411, ...,  40.5888918 ,\n",
              "        108.64657619,  96.99354585],\n",
              "       [  9.60884294,  66.96743814,  35.61684662, ...,  35.76664122,\n",
              "        115.16785174,  91.44438942],\n",
              "       [  3.81947195,  65.33734515,  35.79346056, ...,  33.77426899,\n",
              "        115.64462166,  90.06241426]])"
            ]
          },
          "metadata": {},
          "execution_count": 20
        },
        {
          "output_type": "execute_result",
          "data": {
            "text/plain": [
              "array([[268.19489092, 133.8987297 ,  49.78162697, ...,  74.15475262,\n",
              "        243.68995658, 156.03135294],\n",
              "       [411.99212887, 277.46834082, 193.1706708 , ...,  70.84272751,\n",
              "        387.48496411, 299.63856253],\n",
              "       [124.07486933, 258.58587968, 342.89682652, ..., 465.30399707,\n",
              "        148.58329294, 236.41636099],\n",
              "       ...,\n",
              "       [ 96.99354585,  37.63362   , 121.8735569 , ..., 244.30486797,\n",
              "         72.49103734,  15.59211769],\n",
              "       [ 91.44438942,  44.50773843, 128.43784548, ..., 250.45403062,\n",
              "         67.19213194,  23.09434166],\n",
              "       [ 90.06241426,  44.76877682, 128.84442092, ..., 251.33464506,\n",
              "         65.56227744,  22.88284245]])"
            ]
          },
          "metadata": {},
          "execution_count": 20
        },
        {
          "output_type": "execute_result",
          "data": {
            "text/plain": [
              "array([[334.97028826, 136.57967075, 243.68995658, ..., 268.19489092,\n",
              "        157.38913113,  89.62391654],\n",
              "       [478.85377744, 280.14356945, 387.48496411, ..., 411.99212887,\n",
              "        301.01492334, 233.07649291],\n",
              "       [ 57.38570953, 255.91156536, 148.58329294, ..., 124.07486933,\n",
              "        235.03890583, 302.97746427],\n",
              "       ...,\n",
              "       [163.85826166,  34.9725194 ,  72.49103734, ...,  96.99354585,\n",
              "         14.20668999,  81.97222955],\n",
              "       [158.24256508,  41.85158748,  67.19213194, ...,  91.44438942,\n",
              "         21.92175944,  88.53051194],\n",
              "       [156.86247992,  42.13069655,  65.56227744, ...,  90.06241426,\n",
              "         21.48101377,  89.00798153]])"
            ]
          },
          "metadata": {},
          "execution_count": 20
        },
        {
          "output_type": "execute_result",
          "data": {
            "text/plain": [
              "array([[139.25314725, 243.04669913, 214.44180797, ..., 293.80089294,\n",
              "         97.6699676 , 264.95533276],\n",
              "       [282.83641324, 386.84718891, 358.18808064, ..., 437.6197555 ,\n",
              "        241.09269321, 408.74843499],\n",
              "       [253.21803883, 149.22379953, 177.86876525, ...,  98.46069038,\n",
              "        294.96262623, 127.31690903],\n",
              "       ...,\n",
              "       [ 32.27686465,  71.8537701 ,  43.2190415 , ..., 122.61586524,\n",
              "         73.97072295,  93.75088698],\n",
              "       [ 39.25866529,  66.5890189 ,  38.31901152, ..., 116.98104416,\n",
              "         80.48700777,  88.21224832],\n",
              "       [ 39.43398903,  64.91788986,  36.38777249, ..., 115.66685712,\n",
              "         81.04417573,  86.82385994]])"
            ]
          },
          "metadata": {},
          "execution_count": 20
        },
        {
          "output_type": "execute_result",
          "data": {
            "text/plain": [
              "array([[242.98923938, 163.02693574, 264.74081705, ..., 292.84005069,\n",
              "        144.36315894, 123.635616  ],\n",
              "       [386.78875305, 306.67654814, 408.53625706, ..., 436.64938103,\n",
              "        287.94385314, 267.16016735],\n",
              "       [149.28174092, 229.37688072, 127.53015092, ...,  99.42381651,\n",
              "        248.11137333, 268.89493272],\n",
              "       ...,\n",
              "       [ 71.79537749,   8.64846582,  93.53857808, ..., 121.6453943 ,\n",
              "         27.20034515,  47.93153669],\n",
              "       [ 66.52687858,  17.00129959,  88.01024213, ..., 115.98621451,\n",
              "         34.24098516,  54.62449742],\n",
              "       [ 64.86071374,  15.93208781,  86.6090553 , ..., 114.70496337,\n",
              "         34.39941525,  55.05063633]])"
            ]
          },
          "metadata": {},
          "execution_count": 20
        },
        {
          "output_type": "execute_result",
          "data": {
            "text/plain": [
              "array([[265.02922935, 159.61775663,  93.51307098, ..., 218.30683682,\n",
              "         78.82980357, 123.00453115],\n",
              "       [408.82184793, 303.23605718,  51.21062173, ..., 362.04263735,\n",
              "        222.23054199, 266.51629802],\n",
              "       [127.24325321, 232.81836514, 484.93181078, ..., 174.01213554,\n",
              "        313.82352827, 269.53960871],\n",
              "       ...,\n",
              "       [ 93.82440305,  12.05205677, 263.92712588, ...,  47.07280302,\n",
              "         92.81330909,  48.57976109],\n",
              "       [ 88.28331347,  19.8165532 , 270.08892569, ...,  41.98214466,\n",
              "         99.33416261,  55.24078737],\n",
              "       [ 86.89788169,  19.36783414, 270.94654044, ...,  40.25599848,\n",
              "         99.84004448,  55.70527174]])"
            ]
          },
          "metadata": {},
          "execution_count": 20
        },
        {
          "output_type": "execute_result",
          "data": {
            "text/plain": [
              "array([[214.91282996, 165.94295202, 242.49782088, ..., 352.89916969,\n",
              "        263.81033587, 145.05392995],\n",
              "       [358.65956378, 309.59305099, 386.30298244, ..., 496.77829071,\n",
              "        407.36884487, 289.01465683],\n",
              "       [177.39726648, 226.46015263, 149.7705235 , ...,  39.51115864,\n",
              "        128.81960179, 247.21110493],\n",
              "       ...,\n",
              "       [ 43.69014717,   5.90593944,  71.31073382, ..., 181.7785448 ,\n",
              "         92.54941012,  26.76516955],\n",
              "       [ 38.77565406,  14.55295563,  66.07495983, ..., 176.09562777,\n",
              "         86.29416427,  35.8320426 ],\n",
              "       [ 36.85687127,  13.18143959,  64.36841291, ..., 174.79036048,\n",
              "         85.87275561,  33.16144777]])"
            ]
          },
          "metadata": {},
          "execution_count": 20
        },
        {
          "output_type": "execute_result",
          "data": {
            "text/plain": [
              "array([[230.2146276 , 128.36709669, 293.00482287, ...,  79.65451093,\n",
              "        346.90320956, 479.2402679 ],\n",
              "       [373.99085701, 271.90414801, 436.82274198, ..., 223.02729529,\n",
              "        490.76352432, 623.13660972],\n",
              "       [162.07108356, 264.15139726,  99.25672092, ..., 313.02679509,\n",
              "         45.42671907,  87.21516138],\n",
              "       ...,\n",
              "       [ 59.00743202,  43.19715494, 121.81888322, ...,  92.02159771,\n",
              "        175.75931499, 308.13549678],\n",
              "       [ 53.84333112,  49.93923463, 116.18505528, ...,  98.5138287 ,\n",
              "        170.0438771 , 302.2817136 ],\n",
              "       [ 52.10633566,  50.32980396, 114.87081918, ...,  99.05642051,\n",
              "        168.78389577, 301.1477783 ]])"
            ]
          },
          "metadata": {},
          "execution_count": 20
        },
        {
          "output_type": "execute_result",
          "data": {
            "text/plain": [
              "array([[293.00482287, 122.933125  , 182.9686569 , ..., 201.52599787,\n",
              "        414.90514038, 263.86363345],\n",
              "       [436.82274198, 266.46067078, 326.70058881, ..., 345.25909856,\n",
              "        558.79652936, 407.4225089 ],\n",
              "       [ 99.25672092, 269.59394067, 209.357134  , ..., 190.79784381,\n",
              "         23.19460704, 128.76558752],\n",
              "       ...,\n",
              "       [121.81888322,  48.62705993,  11.84281448, ...,  30.31301132,\n",
              "        243.79145906,  92.60267244],\n",
              "       [116.18505528,  55.32533637,  11.49423436, ...,  26.00486411,\n",
              "        238.01288338,  86.34810381],\n",
              "       [114.87081918,  55.74137056,   5.79207519, ...,  23.56511001,\n",
              "        236.80490118,  85.92540747]])"
            ]
          },
          "metadata": {},
          "execution_count": 20
        },
        {
          "output_type": "execute_result",
          "data": {
            "text/plain": [
              "array([[262.93999052, 123.41968775, 218.32825273, ..., 145.41766595,\n",
              "        143.99032928, 414.90514038],\n",
              "       [406.49709097, 266.94463441, 362.0659756 , ..., 288.59455514,\n",
              "        287.95266236, 558.79652936],\n",
              "       [129.69105246, 269.11038777, 173.98890866, ..., 247.60380455,\n",
              "        248.27487356,  23.19460704],\n",
              "       ...,\n",
              "       [ 91.68007907,  48.14535159,  47.09515437, ...,  27.54620904,\n",
              "         27.80655513, 243.79145906],\n",
              "       [ 85.42306222,  54.83994278,  42.01537916, ...,  32.77912137,\n",
              "         36.80730125, 238.01288338],\n",
              "       [ 85.00684642,  55.26428817,  40.27512707, ...,  35.05280509,\n",
              "         34.22240872, 236.80490118]])"
            ]
          },
          "metadata": {},
          "execution_count": 20
        },
        {
          "output_type": "execute_result",
          "data": {
            "text/plain": [
              "array([[144.59818854, 235.23092136, 386.46210932, ..., 264.34873047,\n",
              "        122.84340935,  81.97533544],\n",
              "       [287.75908627, 379.14982047, 530.36082906, ..., 408.32450938,\n",
              "        266.37765597, 225.44254309],\n",
              "       [248.44606106, 157.05172585,   7.60554342, ..., 128.06717972,\n",
              "        269.67655826, 310.61309387],\n",
              "       ...,\n",
              "       [ 28.39249996,  64.2835218 , 215.3608945 , ...,  93.5099973 ,\n",
              "         48.70590441,  89.59714242],\n",
              "       [ 33.60401003,  59.78551567, 209.65116026, ...,  88.74398687,\n",
              "         55.421316  ,  96.18148833],\n",
              "       [ 35.89497746,  57.1634701 , 208.36553753, ...,  86.36464151,\n",
              "         55.81601051,  96.61399129]])"
            ]
          },
          "metadata": {},
          "execution_count": 20
        },
        {
          "output_type": "execute_result",
          "data": {
            "text/plain": [
              "array([[334.65918622, 185.09223359, 243.44450519, ..., 263.14293809,\n",
              "        144.53218631, 143.55718206],\n",
              "       [478.50023472, 328.46155758, 387.40958229, ..., 406.70815234,\n",
              "        287.68979646, 287.52094698],\n",
              "       [ 57.62195274, 207.72006494, 148.90430655, ..., 129.47032953,\n",
              "        248.51700849, 248.70847121],\n",
              "       ...,\n",
              "       [163.49309815,  15.16641964,  72.62145961, ...,  91.8805458 ,\n",
              "         28.46991645,  28.235257  ],\n",
              "       [157.76374916,   8.10094935,  68.19312968, ...,  85.64471191,\n",
              "         33.67082457,  37.21546194],\n",
              "       [156.53088854,  11.89315082,  65.45125604, ...,  85.19806554,\n",
              "         35.97233584,  34.65735004]])"
            ]
          },
          "metadata": {},
          "execution_count": 20
        },
        {
          "output_type": "execute_result",
          "data": {
            "text/plain": [
              "array([[417.36030154, 228.7371604 , 140.19879658, ..., 144.97495625,\n",
              "        244.33529417, 190.64575072],\n",
              "       [561.24402186, 372.55707981, 283.35721976, ..., 288.94870291,\n",
              "        387.84733357, 334.03429305],\n",
              "       [ 25.53139383, 163.52699191, 252.8361293 , ..., 247.2954672 ,\n",
              "        148.34964475, 202.14678396],\n",
              "       ...,\n",
              "       [246.23660868,  57.58898415,  32.59245737, ...,  26.91181823,\n",
              "         73.11736158,  20.24060935],\n",
              "       [240.43711427,  52.6877052 ,  38.00247726, ...,  36.05417749,\n",
              "         66.77429077,  13.34924218],\n",
              "       [239.25558862,  50.61451051,  40.05146322, ...,  33.26381299,\n",
              "         66.55452808,  15.59921793]])"
            ]
          },
          "metadata": {},
          "execution_count": 20
        },
        {
          "output_type": "execute_result",
          "data": {
            "text/plain": [
              "array([[182.08809657, 264.81510419, 143.78549496, ..., 358.04679673,\n",
              "        187.80842009, 285.98301087],\n",
              "       [326.0363925 , 408.78729109, 287.74974804, ..., 501.94607439,\n",
              "        331.16581135, 429.77148085],\n",
              "       [210.18654466, 127.59271179, 248.48038676, ...,  34.51227152,\n",
              "        205.03166225, 106.29058242],\n",
              "       ...,\n",
              "       [ 12.40522983,  93.96378895,  28.0152399 , ..., 186.95652956,\n",
              "         17.72333917, 114.77056463],\n",
              "       [ 16.23365955,  89.17219968,  37.01397733, ..., 181.31004434,\n",
              "         10.50068581, 109.08110703],\n",
              "       [  4.80620471,  86.82348767,  34.42989249, ..., 179.95173324,\n",
              "         13.78730959, 107.84930085]])"
            ]
          },
          "metadata": {},
          "execution_count": 20
        },
        {
          "output_type": "execute_result",
          "data": {
            "text/plain": [
              "array([[121.98772831, 266.39214411, 164.13748981, ..., 178.79631141,\n",
              "        229.25030598, 185.20882412],\n",
              "       [265.55865961, 410.35389707, 308.0527611 , ..., 322.13049267,\n",
              "        373.07022393, 329.17620692],\n",
              "       [270.49458102, 125.99358195, 228.12129343, ..., 214.06086589,\n",
              "        163.01376193, 207.08085828],\n",
              "       ...,\n",
              "       [ 49.50784476,  95.50360932,   8.56907189, ...,  10.19252858,\n",
              "         58.10138003,  15.46615229],\n",
              "       [ 56.31131496,  90.63931699,  19.609525  , ...,   3.49823368,\n",
              "         53.18720212,  17.96409011],\n",
              "       [ 56.58903038,  88.37928579,  14.09230897, ...,  10.24065292,\n",
              "         51.12742517,   7.81036918]])"
            ]
          },
          "metadata": {},
          "execution_count": 20
        },
        {
          "output_type": "execute_result",
          "data": {
            "text/plain": [
              "array([[192.90246602, 247.50755212,  36.89760959, ..., 417.36030154,\n",
              "        213.50542272,  81.97533544],\n",
              "       [336.32341155, 391.03685077, 180.0678583 , ..., 561.24402186,\n",
              "        356.98145516, 225.44254309],\n",
              "       [199.83939962, 145.14755457, 355.99657104, ...,  25.53139383,\n",
              "        179.18051946, 310.61309387],\n",
              "       ...,\n",
              "       [ 22.27304808,  76.27601707, 134.977993  , ..., 246.23660868,\n",
              "         42.42530632,  89.59714242],\n",
              "       [ 15.67658564,  69.9742411 , 141.47944583, ..., 240.43711427,\n",
              "         36.04561639,  96.18148833],\n",
              "       [ 17.17814515,  69.67783347, 141.94473782, ..., 239.25558862,\n",
              "         36.19712969,  96.61399129]])"
            ]
          },
          "metadata": {},
          "execution_count": 20
        },
        {
          "output_type": "execute_result",
          "data": {
            "text/plain": [
              "[<matplotlib.lines.Line2D at 0x7f5ec2439f60>]"
            ]
          },
          "metadata": {},
          "execution_count": 20
        },
        {
          "output_type": "execute_result",
          "data": {
            "text/plain": [
              "Text(0.5, 1.0, 'Elbow method')"
            ]
          },
          "metadata": {},
          "execution_count": 20
        },
        {
          "output_type": "execute_result",
          "data": {
            "text/plain": [
              "Text(0.5, 0, 'No. clusters')"
            ]
          },
          "metadata": {},
          "execution_count": 20
        },
        {
          "output_type": "execute_result",
          "data": {
            "text/plain": [
              "Text(0, 0.5, 'Inertia')"
            ]
          },
          "metadata": {},
          "execution_count": 20
        },
        {
          "output_type": "display_data",
          "data": {
            "text/plain": [
              "<Figure size 640x480 with 1 Axes>"
            ],
            "image/png": "[encoded data removed]"
          },
          "metadata": {}
        }
      ]
    },
    {
      "cell_type": "markdown",
      "source": [
        "Great! With this beautiful plot, we need to determine the elbow point. It appears to be 8.\n",
        "\n",
        " The elbow point is where the curve starts to flatten."
      ],
      "metadata": {
        "id": "3XLI4pV-Yu92"
      }
    },
    {
      "cell_type": "code",
      "source": [
        "kmeans = KMeans(init = \"k-means++\", n_init = 8)\n",
        "kmeans.fit_transform(train_df.iloc[:, 2:])\n",
        "kmeans_label = kmeans.labels_\n",
        "train_df[\"cluster_group\"] = kmeans_label\n",
        "\n",
        "# Create a copy of the encoded DataFrame\n",
        "decoded_df = train_df.copy()\n",
        "\n",
        "# Inverse transform the 'Sub_type', 'Gender', and 'Device' columns\n",
        "decoded_df['Sub_type'] = sub_type_encoder.inverse_transform(decoded_df['Sub_type'])\n",
        "decoded_df['Gender'] = gender_encoder.inverse_transform(decoded_df['Gender'])\n",
        "decoded_df['Device'] = device_encoder.inverse_transform(decoded_df['Device'])\n",
        "\n",
        "decoded_df.sample(10)"
      ],
      "metadata": {
        "jupyter": {
          "source_hidden": true
        },
        "id": "p7bMppheYu93",
        "outputId": "93a09fdc-309e-464b-f1ab-ad535da4551f",
        "colab": {
          "base_uri": "https://localhost:8080/",
          "height": 620
        }
      },
      "execution_count": 21,
      "outputs": [
        {
          "output_type": "execute_result",
          "data": {
            "text/plain": [
              "array([[142.65712063, 245.7485757 ,  62.38120166, ..., 272.43099599,\n",
              "         57.45657721, 212.28569019],\n",
              "       [286.65968828, 389.75100348, 206.38290435, ..., 416.43305111,\n",
              "         86.55783191, 356.2878936 ],\n",
              "       [249.34561003, 146.25395177, 329.62324097, ..., 119.57213537,\n",
              "        449.45520971, 179.71694131],\n",
              "       ...,\n",
              "       [ 28.38974283,  74.76212266, 108.63564429, ..., 101.44178712,\n",
              "        228.4610253 ,  41.31713864],\n",
              "       [ 34.38003325,  68.76787098, 114.63145239, ...,  95.44355297,\n",
              "        234.45911466,  35.31752551],\n",
              "       [ 35.35192369,  67.75061136, 115.6248382 , ...,  94.43217764,\n",
              "        235.45639259,  34.29278517]])"
            ]
          },
          "metadata": {},
          "execution_count": 21
        },
        {
          "output_type": "execute_result",
          "data": {
            "text/plain": [
              "      Sub_type  Age  Gender      Device  Sub_period  cluster_group\n",
              "ID                                                                \n",
              "130      Basic   43  Female      Tablet         167              3\n",
              "804   Standard   47  Female  Smartphone         375              0\n",
              "2494   Premium   36    Male    Smart TV         359              0\n",
              "1010     Basic   36  Female      Tablet         367              0\n",
              "2476     Basic   28    Male      Tablet         318              4\n",
              "2260   Premium   31    Male      Tablet         283              7\n",
              "342      Basic   41  Female      Laptop         321              4\n",
              "191    Premium   46    Male      Laptop         352              0\n",
              "1085     Basic   33  Female  Smartphone         366              0\n",
              "1224  Standard   47  Female  Smartphone         368              0"
            ],
            "text/html": [
              "\n",
              "  <div id=\"df-00fbc75b-2e0e-4be9-976e-cfad48d40d5f\" class=\"colab-df-container\">\n",
              "    <div>\n",
              "<style scoped>\n",
              "    .dataframe tbody tr th:only-of-type {\n",
              "        vertical-align: middle;\n",
              "    }\n",
              "\n",
              "    .dataframe tbody tr th {\n",
              "        vertical-align: top;\n",
              "    }\n",
              "\n",
              "    .dataframe thead th {\n",
              "        text-align: right;\n",
              "    }\n",
              "</style>\n",
              "<table border=\"1\" class=\"dataframe\">\n",
              "  <thead>\n",
              "    <tr style=\"text-align: right;\">\n",
              "      <th></th>\n",
              "      <th>Sub_type</th>\n",
              "      <th>Age</th>\n",
              "      <th>Gender</th>\n",
              "      <th>Device</th>\n",
              "      <th>Sub_period</th>\n",
              "      <th>cluster_group</th>\n",
              "    </tr>\n",
              "    <tr>\n",
              "      <th>ID</th>\n",
              "      <th></th>\n",
              "      <th></th>\n",
              "      <th></th>\n",
              "      <th></th>\n",
              "      <th></th>\n",
              "      <th></th>\n",
              "    </tr>\n",
              "  </thead>\n",
              "  <tbody>\n",
              "    <tr>\n",
              "      <th>130</th>\n",
              "      <td>Basic</td>\n",
              "      <td>43</td>\n",
              "      <td>Female</td>\n",
              "      <td>Tablet</td>\n",
              "      <td>167</td>\n",
              "      <td>3</td>\n",
              "    </tr>\n",
              "    <tr>\n",
              "      <th>804</th>\n",
              "      <td>Standard</td>\n",
              "      <td>47</td>\n",
              "      <td>Female</td>\n",
              "      <td>Smartphone</td>\n",
              "      <td>375</td>\n",
              "      <td>0</td>\n",
              "    </tr>\n",
              "    <tr>\n",
              "      <th>2494</th>\n",
              "      <td>Premium</td>\n",
              "      <td>36</td>\n",
              "      <td>Male</td>\n",
              "      <td>Smart TV</td>\n",
              "      <td>359</td>\n",
              "      <td>0</td>\n",
              "    </tr>\n",
              "    <tr>\n",
              "      <th>1010</th>\n",
              "      <td>Basic</td>\n",
              "      <td>36</td>\n",
              "      <td>Female</td>\n",
              "      <td>Tablet</td>\n",
              "      <td>367</td>\n",
              "      <td>0</td>\n",
              "    </tr>\n",
              "    <tr>\n",
              "      <th>2476</th>\n",
              "      <td>Basic</td>\n",
              "      <td>28</td>\n",
              "      <td>Male</td>\n",
              "      <td>Tablet</td>\n",
              "      <td>318</td>\n",
              "      <td>4</td>\n",
              "    </tr>\n",
              "    <tr>\n",
              "      <th>2260</th>\n",
              "      <td>Premium</td>\n",
              "      <td>31</td>\n",
              "      <td>Male</td>\n",
              "      <td>Tablet</td>\n",
              "      <td>283</td>\n",
              "      <td>7</td>\n",
              "    </tr>\n",
              "    <tr>\n",
              "      <th>342</th>\n",
              "      <td>Basic</td>\n",
              "      <td>41</td>\n",
              "      <td>Female</td>\n",
              "      <td>Laptop</td>\n",
              "      <td>321</td>\n",
              "      <td>4</td>\n",
              "    </tr>\n",
              "    <tr>\n",
              "      <th>191</th>\n",
              "      <td>Premium</td>\n",
              "      <td>46</td>\n",
              "      <td>Male</td>\n",
              "      <td>Laptop</td>\n",
              "      <td>352</td>\n",
              "      <td>0</td>\n",
              "    </tr>\n",
              "    <tr>\n",
              "      <th>1085</th>\n",
              "      <td>Basic</td>\n",
              "      <td>33</td>\n",
              "      <td>Female</td>\n",
              "      <td>Smartphone</td>\n",
              "      <td>366</td>\n",
              "      <td>0</td>\n",
              "    </tr>\n",
              "    <tr>\n",
              "      <th>1224</th>\n",
              "      <td>Standard</td>\n",
              "      <td>47</td>\n",
              "      <td>Female</td>\n",
              "      <td>Smartphone</td>\n",
              "      <td>368</td>\n",
              "      <td>0</td>\n",
              "    </tr>\n",
              "  </tbody>\n",
              "</table>\n",
              "</div>\n",
              "    <div class=\"colab-df-buttons\">\n",
              "\n",
              "  <div class=\"colab-df-container\">\n",
              "    <button class=\"colab-df-convert\" onclick=\"convertToInteractive('df-00fbc75b-2e0e-4be9-976e-cfad48d40d5f')\"\n",
              "            title=\"Convert this dataframe to an interactive table.\"\n",
              "            style=\"display:none;\">\n",
              "\n",
              "  <svg xmlns=\"http://www.w3.org/2000/svg\" height=\"24px\" viewBox=\"0 -960 960 960\">\n",
              "    <path d=\"M120-120v-720h720v720H120Zm60-500h600v-160H180v160Zm220 220h160v-160H400v160Zm0 220h160v-160H400v160ZM180-400h160v-160H180v160Zm440 0h160v-160H620v160ZM180-180h160v-160H180v160Zm440 0h160v-160H620v160Z\"/>\n",
              "  </svg>\n",
              "    </button>\n",
              "\n",
              "  <style>\n",
              "    .colab-df-container {\n",
              "      display:flex;\n",
              "      gap: 12px;\n",
              "    }\n",
              "\n",
              "    .colab-df-convert {\n",
              "      background-color: #E8F0FE;\n",
              "      border: none;\n",
              "      border-radius: 50%;\n",
              "      cursor: pointer;\n",
              "      display: none;\n",
              "      fill: #1967D2;\n",
              "      height: 32px;\n",
              "      padding: 0 0 0 0;\n",
              "      width: 32px;\n",
              "    }\n",
              "\n",
              "    .colab-df-convert:hover {\n",
              "      background-color: #E2EBFA;\n",
              "      box-shadow: 0px 1px 2px rgba(60, 64, 67, 0.3), 0px 1px 3px 1px rgba(60, 64, 67, 0.15);\n",
              "      fill: #174EA6;\n",
              "    }\n",
              "\n",
              "    .colab-df-buttons div {\n",
              "      margin-bottom: 4px;\n",
              "    }\n",
              "\n",
              "    [theme=dark] .colab-df-convert {\n",
              "      background-color: #3B4455;\n",
              "      fill: #D2E3FC;\n",
              "    }\n",
              "\n",
              "    [theme=dark] .colab-df-convert:hover {\n",
              "      background-color: #434B5C;\n",
              "      box-shadow: 0px 1px 3px 1px rgba(0, 0, 0, 0.15);\n",
              "      filter: drop-shadow(0px 1px 2px rgba(0, 0, 0, 0.3));\n",
              "      fill: #FFFFFF;\n",
              "    }\n",
              "  </style>\n",
              "\n",
              "    <script>\n",
              "      const buttonEl =\n",
              "        document.querySelector('#df-00fbc75b-2e0e-4be9-976e-cfad48d40d5f button.colab-df-convert');\n",
              "      buttonEl.style.display =\n",
              "        google.colab.kernel.accessAllowed ? 'block' : 'none';\n",
              "\n",
              "      async function convertToInteractive(key) {\n",
              "        const element = document.querySelector('#df-00fbc75b-2e0e-4be9-976e-cfad48d40d5f');\n",
              "        const dataTable =\n",
              "          await google.colab.kernel.invokeFunction('convertToInteractive',\n",
              "                                                    [key], {});\n",
              "        if (!dataTable) return;\n",
              "\n",
              "        const docLinkHtml = 'Like what you see? Visit the ' +\n",
              "          '<a target=\"_blank\" href=https://colab.research.google.com/notebooks/data_table.ipynb>data table notebook</a>'\n",
              "          + ' to learn more about interactive tables.';\n",
              "        element.innerHTML = '';\n",
              "        dataTable['output_type'] = 'display_data';\n",
              "        await google.colab.output.renderOutput(dataTable, element);\n",
              "        const docLink = document.createElement('div');\n",
              "        docLink.innerHTML = docLinkHtml;\n",
              "        element.appendChild(docLink);\n",
              "      }\n",
              "    </script>\n",
              "  </div>\n",
              "\n",
              "\n",
              "<div id=\"df-dbaf0f4b-b1aa-4fa1-88d3-779c3243c329\">\n",
              "  <button class=\"colab-df-quickchart\" onclick=\"quickchart('df-dbaf0f4b-b1aa-4fa1-88d3-779c3243c329')\"\n",
              "            title=\"Suggest charts.\"\n",
              "            style=\"display:none;\">\n",
              "\n",
              "<svg xmlns=\"http://www.w3.org/2000/svg\" height=\"24px\"viewBox=\"0 0 24 24\"\n",
              "     width=\"24px\">\n",
              "    <g>\n",
              "        <path d=\"M19 3H5c-1.1 0-2 .9-2 2v14c0 1.1.9 2 2 2h14c1.1 0 2-.9 2-2V5c0-1.1-.9-2-2-2zM9 17H7v-7h2v7zm4 0h-2V7h2v10zm4 0h-2v-4h2v4z\"/>\n",
              "    </g>\n",
              "</svg>\n",
              "  </button>\n",
              "\n",
              "<style>\n",
              "  .colab-df-quickchart {\n",
              "    background-color: #E8F0FE;\n",
              "    border: none;\n",
              "    border-radius: 50%;\n",
              "    cursor: pointer;\n",
              "    display: none;\n",
              "    fill: #1967D2;\n",
              "    height: 32px;\n",
              "    padding: 0 0 0 0;\n",
              "    width: 32px;\n",
              "  }\n",
              "\n",
              "  .colab-df-quickchart:hover {\n",
              "    background-color: #E2EBFA;\n",
              "    box-shadow: 0px 1px 2px rgba(60, 64, 67, 0.3), 0px 1px 3px 1px rgba(60, 64, 67, 0.15);\n",
              "    fill: #174EA6;\n",
              "  }\n",
              "\n",
              "  [theme=dark] .colab-df-quickchart {\n",
              "    background-color: #3B4455;\n",
              "    fill: #D2E3FC;\n",
              "  }\n",
              "\n",
              "  [theme=dark] .colab-df-quickchart:hover {\n",
              "    background-color: #434B5C;\n",
              "    box-shadow: 0px 1px 3px 1px rgba(0, 0, 0, 0.15);\n",
              "    filter: drop-shadow(0px 1px 2px rgba(0, 0, 0, 0.3));\n",
              "    fill: #FFFFFF;\n",
              "  }\n",
              "</style>\n",
              "\n",
              "  <script>\n",
              "    async function quickchart(key) {\n",
              "      const charts = await google.colab.kernel.invokeFunction(\n",
              "          'suggestCharts', [key], {});\n",
              "    }\n",
              "    (() => {\n",
              "      let quickchartButtonEl =\n",
              "        document.querySelector('#df-dbaf0f4b-b1aa-4fa1-88d3-779c3243c329 button');\n",
              "      quickchartButtonEl.style.display =\n",
              "        google.colab.kernel.accessAllowed ? 'block' : 'none';\n",
              "    })();\n",
              "  </script>\n",
              "</div>\n",
              "    </div>\n",
              "  </div>\n"
            ]
          },
          "metadata": {},
          "execution_count": 21
        }
      ]
    },
    {
      "cell_type": "markdown",
      "source": [
        "# Let's proceed with a preliminary analysis using these clusters.\n",
        "\n",
        "How many users do we have in each cluster?"
      ],
      "metadata": {
        "id": "UddcFHDMYu93"
      }
    },
    {
      "cell_type": "code",
      "source": [
        "cluster_counts = decoded_df['cluster_group'].value_counts()\n",
        "\n",
        "print(\"No. users in each cluster:\")\n",
        "print(cluster_counts)"
      ],
      "metadata": {
        "jupyter": {
          "source_hidden": true
        },
        "id": "Kn0AQeJ2Yu93",
        "outputId": "1c0ce7a0-8e6d-4214-e10c-c508c2ee42d5",
        "colab": {
          "base_uri": "https://localhost:8080/"
        }
      },
      "execution_count": 22,
      "outputs": [
        {
          "output_type": "stream",
          "name": "stdout",
          "text": [
            "No. users in each cluster:\n",
            "0    653\n",
            "1    479\n",
            "4    445\n",
            "5    421\n",
            "7    397\n",
            "2     45\n",
            "3     38\n",
            "6     22\n",
            "Name: cluster_group, dtype: int64\n"
          ]
        }
      ]
    },
    {
      "cell_type": "markdown",
      "source": [
        "Let's visualize it to understand the result better."
      ],
      "metadata": {
        "id": "B1ipI3-YYu93"
      }
    },
    {
      "cell_type": "code",
      "source": [
        "cluster_counts = decoded_df['cluster_group'].value_counts()\n",
        "\n",
        "plt.figure(figsize=(8, 6))\n",
        "plt.pie(cluster_counts, labels=None, autopct='%1.1f%%', startangle=140)\n",
        "\n",
        "# Add labels for each segment\n",
        "plt.legend(labels=cluster_counts.index, loc='best')\n",
        "\n",
        "\n",
        "plt.title('Distribution of users in Clusters')\n",
        "plt.axis('equal')\n",
        "\n",
        "plt.show()"
      ],
      "metadata": {
        "jupyter": {
          "source_hidden": true
        },
        "id": "xpDuP1qjYu93",
        "outputId": "509e9a7a-9005-4dde-8460-fd8feadbeb82",
        "colab": {
          "base_uri": "https://localhost:8080/",
          "height": 1000
        }
      },
      "execution_count": 23,
      "outputs": [
        {
          "output_type": "execute_result",
          "data": {
            "text/plain": [
              "<Figure size 800x600 with 0 Axes>"
            ]
          },
          "metadata": {},
          "execution_count": 23
        },
        {
          "output_type": "execute_result",
          "data": {
            "text/plain": [
              "([<matplotlib.patches.Wedge at 0x7f5ebd97c550>,\n",
              "  <matplotlib.patches.Wedge at 0x7f5ebd97c460>,\n",
              "  <matplotlib.patches.Wedge at 0x7f5ebd97d120>,\n",
              "  <matplotlib.patches.Wedge at 0x7f5ebd97d7b0>,\n",
              "  <matplotlib.patches.Wedge at 0x7f5ebd97de40>,\n",
              "  <matplotlib.patches.Wedge at 0x7f5ebd97e4d0>,\n",
              "  <matplotlib.patches.Wedge at 0x7f5ebd97eb60>,\n",
              "  <matplotlib.patches.Wedge at 0x7f5ebd97f1f0>],\n",
              " [Text(-1.0917632841117748, -0.13436119776733305, ''),\n",
              "  Text(-0.02841074370330911, -1.0996330431749608, ''),\n",
              "  Text(0.9973276939446657, -0.46404468630835044, ''),\n",
              "  Text(0.8738560362995211, 0.6681134842396839, ''),\n",
              "  Text(-0.12063152272475419, 1.093365463020077, ''),\n",
              "  Text(-0.6790416849064643, 0.8653914664239474, ''),\n",
              "  Text(-0.765449018301519, 0.7899922786845711, ''),\n",
              "  Text(-0.8227818965186402, 0.7300890019450983, '')],\n",
              " [Text(-0.5955072458791498, -0.07328792605490893, '26.1%'),\n",
              "  Text(-0.015496769292714058, -0.5997998417317967, '19.2%'),\n",
              "  Text(0.5439969239698176, -0.2531152834409184, '17.8%'),\n",
              "  Text(0.47664874707246596, 0.3644255368580094, '16.8%'),\n",
              "  Text(-0.06579901239532046, 0.5963811616473147, '15.9%'),\n",
              "  Text(-0.37038637358534415, 0.4720317089585167, '1.8%'),\n",
              "  Text(-0.417517646346283, 0.43090487928249327, '1.5%'),\n",
              "  Text(-0.44879012537380375, 0.3982303646973263, '0.9%')])"
            ]
          },
          "metadata": {},
          "execution_count": 23
        },
        {
          "output_type": "execute_result",
          "data": {
            "text/plain": [
              "<matplotlib.legend.Legend at 0x7f5ebdb41ae0>"
            ]
          },
          "metadata": {},
          "execution_count": 23
        },
        {
          "output_type": "execute_result",
          "data": {
            "text/plain": [
              "Text(0.5, 1.0, 'Distribution of users in Clusters')"
            ]
          },
          "metadata": {},
          "execution_count": 23
        },
        {
          "output_type": "execute_result",
          "data": {
            "text/plain": [
              "(-1.0999995782475758,\n",
              " 1.0999986956137533,\n",
              " -1.0999999425794222,\n",
              " 1.0999993562383348)"
            ]
          },
          "metadata": {},
          "execution_count": 23
        },
        {
          "output_type": "display_data",
          "data": {
            "text/plain": [
              "<Figure size 800x600 with 1 Axes>"
            ],
            "image/png": "[encoded data removed]"
          },
          "metadata": {}
        }
      ]
    },
    {
      "cell_type": "markdown",
      "source": [
        " We can see that Cluster 2 has the highest number of users (625), while cluster 3 has the lowest (18).\n",
        "\n",
        "## Gender distribution\n",
        "Let's talk about the gender distribution for each cluster."
      ],
      "metadata": {
        "id": "K60wnSJCYu94"
      }
    },
    {
      "cell_type": "code",
      "source": [
        "gender_distribution = decoded_df.groupby(['cluster_group', 'Gender'])['Gender'].count().unstack()\n",
        "\n",
        "print(\"Gender Distribution in Clusters:\")\n",
        "print(gender_distribution)"
      ],
      "metadata": {
        "jupyter": {
          "source_hidden": true
        },
        "id": "yjJJPQSNYu94",
        "outputId": "191cfaab-3d47-4436-f734-78257c8b7305",
        "colab": {
          "base_uri": "https://localhost:8080/"
        }
      },
      "execution_count": 24,
      "outputs": [
        {
          "output_type": "stream",
          "name": "stdout",
          "text": [
            "Gender Distribution in Clusters:\n",
            "Gender         Female  Male\n",
            "cluster_group              \n",
            "0                 327   326\n",
            "1                 229   250\n",
            "2                  24    21\n",
            "3                  22    16\n",
            "4                 222   223\n",
            "5                 225   196\n",
            "6                   8    14\n",
            "7                 200   197\n"
          ]
        }
      ]
    },
    {
      "cell_type": "markdown",
      "source": [
        "It doesn't appear to be a clear gender domination, as most cluster groups show relatively balanced numbers of females and males.\n",
        "\n"
      ],
      "metadata": {
        "id": "XNAxC_sHYu94"
      }
    },
    {
      "cell_type": "code",
      "source": [
        "total_by_cluster = gender_distribution.sum(axis=1)\n",
        "percentage_distribution = gender_distribution.divide(total_by_cluster, axis=0) * 100\n",
        "\n",
        "ax = percentage_distribution.plot(kind='bar', stacked=True, figsize=(10, 6))\n",
        "plt.title('Gender distribution for each Clusters')\n",
        "plt.xlabel('Cluster')\n",
        "plt.ylabel('Percentage')\n",
        "plt.legend([\"Female\", \"Male\"], loc='upper right')\n",
        "\n",
        "for i in ax.patches:\n",
        "    percentage = i.get_height()\n",
        "    if 49.5 < percentage < 51: # Avoid overlapping near 50%\n",
        "        percentage = 50\n",
        "\n",
        "    ax.annotate(f'{percentage:.2f}%',\n",
        "                (i.get_x() + i.get_width() / 2., i.get_height()),\n",
        "                ha='center', va='center',\n",
        "                fontsize=10, color='black',\n",
        "                xytext=(0, 5),\n",
        "                textcoords='offset points')\n",
        "\n",
        "plt.xticks(rotation=0)\n",
        "plt.show()"
      ],
      "metadata": {
        "jupyter": {
          "source_hidden": true
        },
        "id": "CCJa9sStYu94",
        "outputId": "ea1800a8-aee1-45c6-b5fb-41fabc05d733",
        "colab": {
          "base_uri": "https://localhost:8080/",
          "height": 790
        }
      },
      "execution_count": 25,
      "outputs": [
        {
          "output_type": "execute_result",
          "data": {
            "text/plain": [
              "Text(0.5, 1.0, 'Gender distribution for each Clusters')"
            ]
          },
          "metadata": {},
          "execution_count": 25
        },
        {
          "output_type": "execute_result",
          "data": {
            "text/plain": [
              "Text(0.5, 0, 'Cluster')"
            ]
          },
          "metadata": {},
          "execution_count": 25
        },
        {
          "output_type": "execute_result",
          "data": {
            "text/plain": [
              "Text(0, 0.5, 'Percentage')"
            ]
          },
          "metadata": {},
          "execution_count": 25
        },
        {
          "output_type": "execute_result",
          "data": {
            "text/plain": [
              "<matplotlib.legend.Legend at 0x7f5ebd879060>"
            ]
          },
          "metadata": {},
          "execution_count": 25
        },
        {
          "output_type": "execute_result",
          "data": {
            "text/plain": [
              "Text(0, 5, '50.00%')"
            ]
          },
          "metadata": {},
          "execution_count": 25
        },
        {
          "output_type": "execute_result",
          "data": {
            "text/plain": [
              "Text(0, 5, '47.81%')"
            ]
          },
          "metadata": {},
          "execution_count": 25
        },
        {
          "output_type": "execute_result",
          "data": {
            "text/plain": [
              "Text(0, 5, '53.33%')"
            ]
          },
          "metadata": {},
          "execution_count": 25
        },
        {
          "output_type": "execute_result",
          "data": {
            "text/plain": [
              "Text(0, 5, '57.89%')"
            ]
          },
          "metadata": {},
          "execution_count": 25
        },
        {
          "output_type": "execute_result",
          "data": {
            "text/plain": [
              "Text(0, 5, '50.00%')"
            ]
          },
          "metadata": {},
          "execution_count": 25
        },
        {
          "output_type": "execute_result",
          "data": {
            "text/plain": [
              "Text(0, 5, '53.44%')"
            ]
          },
          "metadata": {},
          "execution_count": 25
        },
        {
          "output_type": "execute_result",
          "data": {
            "text/plain": [
              "Text(0, 5, '36.36%')"
            ]
          },
          "metadata": {},
          "execution_count": 25
        },
        {
          "output_type": "execute_result",
          "data": {
            "text/plain": [
              "Text(0, 5, '50.00%')"
            ]
          },
          "metadata": {},
          "execution_count": 25
        },
        {
          "output_type": "execute_result",
          "data": {
            "text/plain": [
              "Text(0, 5, '50.00%')"
            ]
          },
          "metadata": {},
          "execution_count": 25
        },
        {
          "output_type": "execute_result",
          "data": {
            "text/plain": [
              "Text(0, 5, '52.19%')"
            ]
          },
          "metadata": {},
          "execution_count": 25
        },
        {
          "output_type": "execute_result",
          "data": {
            "text/plain": [
              "Text(0, 5, '46.67%')"
            ]
          },
          "metadata": {},
          "execution_count": 25
        },
        {
          "output_type": "execute_result",
          "data": {
            "text/plain": [
              "Text(0, 5, '42.11%')"
            ]
          },
          "metadata": {},
          "execution_count": 25
        },
        {
          "output_type": "execute_result",
          "data": {
            "text/plain": [
              "Text(0, 5, '50.00%')"
            ]
          },
          "metadata": {},
          "execution_count": 25
        },
        {
          "output_type": "execute_result",
          "data": {
            "text/plain": [
              "Text(0, 5, '46.56%')"
            ]
          },
          "metadata": {},
          "execution_count": 25
        },
        {
          "output_type": "execute_result",
          "data": {
            "text/plain": [
              "Text(0, 5, '63.64%')"
            ]
          },
          "metadata": {},
          "execution_count": 25
        },
        {
          "output_type": "execute_result",
          "data": {
            "text/plain": [
              "Text(0, 5, '50.00%')"
            ]
          },
          "metadata": {},
          "execution_count": 25
        },
        {
          "output_type": "execute_result",
          "data": {
            "text/plain": [
              "(array([0, 1, 2, 3, 4, 5, 6, 7]),\n",
              " [Text(0, 0, '0'),\n",
              "  Text(1, 0, '1'),\n",
              "  Text(2, 0, '2'),\n",
              "  Text(3, 0, '3'),\n",
              "  Text(4, 0, '4'),\n",
              "  Text(5, 0, '5'),\n",
              "  Text(6, 0, '6'),\n",
              "  Text(7, 0, '7')])"
            ]
          },
          "metadata": {},
          "execution_count": 25
        },
        {
          "output_type": "display_data",
          "data": {
            "text/plain": [
              "<Figure size 1000x600 with 1 Axes>"
            ],
            "image/png": "[encoded data removed]"
          },
          "metadata": {}
        }
      ]
    },
    {
      "cell_type": "markdown",
      "source": [
        "## Average age and subscription period\n",
        "What about average age and subscription period for each cluster?"
      ],
      "metadata": {
        "id": "z-CDiTz4Yu95"
      }
    },
    {
      "cell_type": "code",
      "source": [
        "cluster_stats = decoded_df.groupby('cluster_group').agg({'Age': 'mean', 'Sub_period': 'mean'})\n",
        "\n",
        "cluster_stats['Age'] = cluster_stats['Age'].astype(int)\n",
        "cluster_stats['Sub_period'] = cluster_stats['Sub_period'].astype(int)\n",
        "\n",
        "print(\"Cluster Statistics (Average Age and Sub_period[days]):\")\n",
        "print(cluster_stats)"
      ],
      "metadata": {
        "jupyter": {
          "source_hidden": true
        },
        "id": "AKRbCmH6Yu95",
        "outputId": "cc6efec3-8416-485e-e4a8-9333d96c793d",
        "colab": {
          "base_uri": "https://localhost:8080/"
        }
      },
      "execution_count": 26,
      "outputs": [
        {
          "output_type": "stream",
          "name": "stdout",
          "text": [
            "Cluster Statistics (Average Age and Sub_period[days]):\n",
            "               Age  Sub_period\n",
            "cluster_group                 \n",
            "0               39         368\n",
            "1               38         265\n",
            "2               36         448\n",
            "3               37         107\n",
            "4               38         332\n",
            "5               38         238\n",
            "6               37         568\n",
            "7               38         298\n"
          ]
        }
      ]
    },
    {
      "cell_type": "code",
      "source": [
        "plt.bar(decoded_df['cluster_group'], decoded_df['Sub_period'], color='green')\n",
        "plt.title('Average Sub_period for each Cluster')\n",
        "plt.xlabel('Cluster')\n",
        "plt.ylabel('Average Sub_period')\n",
        "\n",
        "plt.show()"
      ],
      "metadata": {
        "jupyter": {
          "source_hidden": true
        },
        "id": "-m0DKGMCYu95",
        "outputId": "24992aff-e6fc-4722-ba95-12b3c7fe2885",
        "colab": {
          "base_uri": "https://localhost:8080/",
          "height": 507
        }
      },
      "execution_count": 27,
      "outputs": [
        {
          "output_type": "execute_result",
          "data": {
            "text/plain": [
              "<BarContainer object of 2500 artists>"
            ]
          },
          "metadata": {},
          "execution_count": 27
        },
        {
          "output_type": "execute_result",
          "data": {
            "text/plain": [
              "Text(0.5, 1.0, 'Average Sub_period for each Cluster')"
            ]
          },
          "metadata": {},
          "execution_count": 27
        },
        {
          "output_type": "execute_result",
          "data": {
            "text/plain": [
              "Text(0.5, 0, 'Cluster')"
            ]
          },
          "metadata": {},
          "execution_count": 27
        },
        {
          "output_type": "execute_result",
          "data": {
            "text/plain": [
              "Text(0, 0.5, 'Average Sub_period')"
            ]
          },
          "metadata": {},
          "execution_count": 27
        },
        {
          "output_type": "display_data",
          "data": {
            "text/plain": [
              "<Figure size 640x480 with 1 Axes>"
            ],
            "image/png": "[encoded data removed]"
          },
          "metadata": {}
        }
      ]
    },
    {
      "cell_type": "markdown",
      "source": [
        "It looks like Cluster 3 comprises older users with an average age of 39 who exhibit the longest average subscription period of about 580 days, suggesting a highly loyal and committed subscriber base.\n",
        "\n",
        "In contrast, Cluster 4 represents younger users with an average age of 37 and a relatively short average subscription period of approximately 107 days, implying lower engagement or experimentation with shorter subscriptions.\n",
        "\n",
        "Cluster 6, despite having the lowest average age of 35, exhibits a substantial average subscription period of approximately 455 days, suggesting early subscription initiation and continued engagement."
      ],
      "metadata": {
        "id": "DPDVB5E8Yu95"
      }
    },
    {
      "cell_type": "markdown",
      "source": [
        "## Devices distribution\n",
        "Let's talk about the devices distribution within each cluster."
      ],
      "metadata": {
        "id": "yxd6dHcdYu95"
      }
    },
    {
      "cell_type": "code",
      "source": [
        "devices_distribution = decoded_df.groupby(['cluster_group', 'Device'])['Device'].count().unstack()\n",
        "\n",
        "print(\"Devices Distribution in clusters:\")\n",
        "print(devices_distribution)"
      ],
      "metadata": {
        "jupyter": {
          "source_hidden": true
        },
        "id": "VHjaOotbYu96",
        "outputId": "25330e74-cfb8-4b57-faa4-49aa6ad9420c",
        "colab": {
          "base_uri": "https://localhost:8080/"
        }
      },
      "execution_count": 28,
      "outputs": [
        {
          "output_type": "stream",
          "name": "stdout",
          "text": [
            "Devices Distribution in clusters:\n",
            "Device         Laptop  Smart TV  Smartphone  Tablet\n",
            "cluster_group                                      \n",
            "0                 159       166         157     171\n",
            "1                 136       124         108     111\n",
            "2                  11         9          11      14\n",
            "3                  12         8           8      10\n",
            "4                 107        99         127     112\n",
            "5                 112       111          92     106\n",
            "6                   5         3           8       6\n",
            "7                  94        90         110     103\n"
          ]
        }
      ]
    },
    {
      "cell_type": "code",
      "source": [
        "plt.figure(figsize=(10, 6))\n",
        "sns.heatmap(devices_distribution, annot=True, fmt='d', cmap='YlGnBu')\n",
        "plt.title('Devices distribution in clusters')\n",
        "plt.xlabel('Device')\n",
        "plt.ylabel('Cluster')\n",
        "plt.show()"
      ],
      "metadata": {
        "jupyter": {
          "source_hidden": true
        },
        "id": "lJpza4pIYu96",
        "outputId": "9eac80f2-968a-4988-918d-4991e6b9fa78",
        "colab": {
          "base_uri": "https://localhost:8080/",
          "height": 599
        }
      },
      "execution_count": 29,
      "outputs": [
        {
          "output_type": "execute_result",
          "data": {
            "text/plain": [
              "<Figure size 1000x600 with 0 Axes>"
            ]
          },
          "metadata": {},
          "execution_count": 29
        },
        {
          "output_type": "execute_result",
          "data": {
            "text/plain": [
              "<Axes: xlabel='Device', ylabel='cluster_group'>"
            ]
          },
          "metadata": {},
          "execution_count": 29
        },
        {
          "output_type": "execute_result",
          "data": {
            "text/plain": [
              "Text(0.5, 1.0, 'Devices distribution in clusters')"
            ]
          },
          "metadata": {},
          "execution_count": 29
        },
        {
          "output_type": "execute_result",
          "data": {
            "text/plain": [
              "Text(0.5, 36.72222222222221, 'Device')"
            ]
          },
          "metadata": {},
          "execution_count": 29
        },
        {
          "output_type": "execute_result",
          "data": {
            "text/plain": [
              "Text(95.72222222222221, 0.5, 'Cluster')"
            ]
          },
          "metadata": {},
          "execution_count": 29
        },
        {
          "output_type": "display_data",
          "data": {
            "text/plain": [
              "<Figure size 1000x600 with 2 Axes>"
            ],
            "image/png": "[encoded data removed]"
          },
          "metadata": {}
        }
      ]
    },
    {
      "cell_type": "markdown",
      "source": [
        "It appears that:\n",
        " - Clusters 2, 5, and 7 exhibit a dominant usage of all device types, indicating versatile user preferences across devices.\n",
        " - Clusters 0, 1, and 3 show relatively balanced distributions, suggesting diverse device usage patterns among these user groups.\n",
        " - Clusters 3 and 4, along with Cluster 6, have notably lower device usage, possibly signifying niche user segments with specialized preferences."
      ],
      "metadata": {
        "id": "SJlJdcaUYu96"
      }
    },
    {
      "cell_type": "markdown",
      "source": [
        "## Potential connections of subscription types\n",
        "Let's take a look at subscription types and their potential connections with other features such as age, gender, or country.\n",
        "\n",
        "We should start with making a simple tool(function) to analyze this conveniently."
      ],
      "metadata": {
        "id": "N7BPP_TfYu96"
      }
    },
    {
      "cell_type": "code",
      "source": [
        "def check_association(feature_1: str, feature_2: str):\n",
        "    contingency_table = pd.crosstab(df[feature_1], df[feature_2])\n",
        "\n",
        "    chi2, p, dof, expected = chi2_contingency(contingency_table)\n",
        "\n",
        "    print(f'{feature_1} vs {feature_2}')\n",
        "    print(\"Chi-squared value:\", chi2)\n",
        "    print(\"P-value:\", p)\n",
        "\n",
        "    if p < 0.05:\n",
        "        print(f\"There is a significant association between {feature_1} and {feature_2}.\")\n",
        "    else:\n",
        "        print(f\"There is no significant association between {feature_1} and {feature_2}.\")\n",
        "    print(64*'*')"
      ],
      "metadata": {
        "jupyter": {
          "source_hidden": true
        },
        "id": "l9J07SqdYu98"
      },
      "execution_count": 30,
      "outputs": []
    },
    {
      "cell_type": "code",
      "source": [
        "check_association('Sub_type', 'Gender')\n",
        "check_association('Sub_type', 'Age')\n",
        "check_association('Sub_type', 'Country')"
      ],
      "metadata": {
        "jupyter": {
          "source_hidden": true
        },
        "id": "h-9P0OsNYu98",
        "outputId": "3545e49c-0739-4e75-a5cb-47353f99c58c",
        "colab": {
          "base_uri": "https://localhost:8080/"
        }
      },
      "execution_count": 31,
      "outputs": [
        {
          "output_type": "stream",
          "name": "stdout",
          "text": [
            "Sub_type vs Gender\n",
            "Chi-squared value: 0.6282267388216124\n",
            "P-value: 0.7304362143419851\n",
            "There is no significant association between Sub_type and Gender.\n",
            "****************************************************************\n",
            "Sub_type vs Age\n",
            "Chi-squared value: 73.1286654741239\n",
            "P-value: 0.018131908747004287\n",
            "There is a significant association between Sub_type and Age.\n",
            "****************************************************************\n",
            "Sub_type vs Country\n",
            "Chi-squared value: 1683.8514808245543\n",
            "P-value: 0.0\n",
            "There is a significant association between Sub_type and Country.\n",
            "****************************************************************\n"
          ]
        }
      ]
    },
    {
      "cell_type": "markdown",
      "source": [
        "Although there isn't a significant association between subscription type and gender, we've found interesting connections with both age and country.\n",
        "\n",
        "## Geospatial analysis\n",
        "Let's take a closer look at where our users are from and how their spending is making an impact. This way, we can suggest content they'll love, based on what's trending in their country, for instance."
      ],
      "metadata": {
        "id": "cI_9SUlUYu98"
      }
    },
    {
      "cell_type": "code",
      "source": [
        "country_data_revenue = df.groupby('Country')['Monthly_revenue'].sum().reset_index()\n",
        "country_data_users = df.groupby('Country').size().reset_index(name='User_Count')\n",
        "\n",
        "# Create a choropleth map showing the total revenue from each country\n",
        "fig1 = px.choropleth(country_data_revenue, locations='Country', locationmode='country names',\n",
        "                     color='Monthly_revenue', title='Total Netflix Revenue by Country',\n",
        "                     hover_name='Country', color_continuous_scale='Plasma')\n",
        "fig1.show()\n",
        "\n",
        "# Create a choropleth map showing the number of Netflix users in each country\n",
        "fig2 = px.choropleth(country_data_users, locations='Country', locationmode='country names',\n",
        "                     color='User_Count', title='Number of Netflix Users by Country',\n",
        "                     hover_name='Country', color_continuous_scale='Viridis')\n",
        "fig2.show()"
      ],
      "metadata": {
        "jupyter": {
          "source_hidden": true
        },
        "id": "EKXmGD4UYu98",
        "outputId": "f8bef8ff-7b92-49fe-d09e-39f4de1246f7",
        "colab": {
          "base_uri": "https://localhost:8080/",
          "height": 1000
        }
      },
      "execution_count": 32,
      "outputs": [
        {
          "output_type": "display_data",
          "data": {
            "text/html": [
              "<html>\n",
              "<head><meta charset=\"utf-8\" /></head>\n",
              "<body>\n",
              "    <div>            <script src=\"https://cdnjs.cloudflare.com/ajax/libs/mathjax/2.7.5/MathJax.js?config=TeX-AMS-MML_SVG\"></script><script type=\"text/javascript\">if (window.MathJax && window.MathJax.Hub && window.MathJax.Hub.Config) {window.MathJax.Hub.Config({SVG: {font: \"STIX-Web\"}});}</script>                <script type=\"text/javascript\">window.PlotlyConfig = {MathJaxConfig: 'local'};</script>\n",
              "        <script charset=\"utf-8\" src=\"https://cdn.plot.ly/plotly-2.24.1.min.js\"></script>                <div id=\"96773566-0e1c-436b-a17c-5a3fc3f2bd1b\" class=\"plotly-graph-div\" style=\"height:525px; width:100%;\"></div>            <script type=\"text/javascript\">                                    window.PLOTLYENV=window.PLOTLYENV || {};                                    if (document.getElementById(\"96773566-0e1c-436b-a17c-5a3fc3f2bd1b\")) {                    Plotly.newPlot(                        \"96773566-0e1c-436b-a17c-5a3fc3f2bd1b\",                        [{\"coloraxis\":\"coloraxis\",\"geo\":\"geo\",\"hovertemplate\":\"\\u003cb\\u003e%{hovertext}\\u003c\\u002fb\\u003e\\u003cbr\\u003e\\u003cbr\\u003eCountry=%{location}\\u003cbr\\u003eMonthly_revenue=%{z}\\u003cextra\\u003e\\u003c\\u002fextra\\u003e\",\"hovertext\":[\"Australia\",\"Brazil\",\"Canada\",\"France\",\"Germany\",\"Italy\",\"Mexico\",\"Spain\",\"United Kingdom\",\"United States\"],\"locationmode\":\"country names\",\"locations\":[\"Australia\",\"Brazil\",\"Canada\",\"France\",\"Germany\",\"Italy\",\"Mexico\",\"Spain\",\"United Kingdom\",\"United States\"],\"name\":\"\",\"z\":[2271,2285,3950,2307,2260,2317,2237,5662,2318,5664],\"type\":\"choropleth\"}],                        {\"template\":{\"data\":{\"histogram2dcontour\":[{\"type\":\"histogram2dcontour\",\"colorbar\":{\"outlinewidth\":0,\"ticks\":\"\"},\"colorscale\":[[0.0,\"#0d0887\"],[0.1111111111111111,\"#46039f\"],[0.2222222222222222,\"#7201a8\"],[0.3333333333333333,\"#9c179e\"],[0.4444444444444444,\"#bd3786\"],[0.5555555555555556,\"#d8576b\"],[0.6666666666666666,\"#ed7953\"],[0.7777777777777778,\"#fb9f3a\"],[0.8888888888888888,\"#fdca26\"],[1.0,\"#f0f921\"]]}],\"choropleth\":[{\"type\":\"choropleth\",\"colorbar\":{\"outlinewidth\":0,\"ticks\":\"\"}}],\"histogram2d\":[{\"type\":\"histogram2d\",\"colorbar\":{\"outlinewidth\":0,\"ticks\":\"\"},\"colorscale\":[[0.0,\"#0d0887\"],[0.1111111111111111,\"#46039f\"],[0.2222222222222222,\"#7201a8\"],[0.3333333333333333,\"#9c179e\"],[0.4444444444444444,\"#bd3786\"],[0.5555555555555556,\"#d8576b\"],[0.6666666666666666,\"#ed7953\"],[0.7777777777777778,\"#fb9f3a\"],[0.8888888888888888,\"#fdca26\"],[1.0,\"#f0f921\"]]}],\"heatmap\":[{\"type\":\"heatmap\",\"colorbar\":{\"outlinewidth\":0,\"ticks\":\"\"},\"colorscale\":[[0.0,\"#0d0887\"],[0.1111111111111111,\"#46039f\"],[0.2222222222222222,\"#7201a8\"],[0.3333333333333333,\"#9c179e\"],[0.4444444444444444,\"#bd3786\"],[0.5555555555555556,\"#d8576b\"],[0.6666666666666666,\"#ed7953\"],[0.7777777777777778,\"#fb9f3a\"],[0.8888888888888888,\"#fdca26\"],[1.0,\"#f0f921\"]]}],\"heatmapgl\":[{\"type\":\"heatmapgl\",\"colorbar\":{\"outlinewidth\":0,\"ticks\":\"\"},\"colorscale\":[[0.0,\"#0d0887\"],[0.1111111111111111,\"#46039f\"],[0.2222222222222222,\"#7201a8\"],[0.3333333333333333,\"#9c179e\"],[0.4444444444444444,\"#bd3786\"],[0.5555555555555556,\"#d8576b\"],[0.6666666666666666,\"#ed7953\"],[0.7777777777777778,\"#fb9f3a\"],[0.8888888888888888,\"#fdca26\"],[1.0,\"#f0f921\"]]}],\"contourcarpet\":[{\"type\":\"contourcarpet\",\"colorbar\":{\"outlinewidth\":0,\"ticks\":\"\"}}],\"contour\":[{\"type\":\"contour\",\"colorbar\":{\"outlinewidth\":0,\"ticks\":\"\"},\"colorscale\":[[0.0,\"#0d0887\"],[0.1111111111111111,\"#46039f\"],[0.2222222222222222,\"#7201a8\"],[0.3333333333333333,\"#9c179e\"],[0.4444444444444444,\"#bd3786\"],[0.5555555555555556,\"#d8576b\"],[0.6666666666666666,\"#ed7953\"],[0.7777777777777778,\"#fb9f3a\"],[0.8888888888888888,\"#fdca26\"],[1.0,\"#f0f921\"]]}],\"surface\":[{\"type\":\"surface\",\"colorbar\":{\"outlinewidth\":0,\"ticks\":\"\"},\"colorscale\":[[0.0,\"#0d0887\"],[0.1111111111111111,\"#46039f\"],[0.2222222222222222,\"#7201a8\"],[0.3333333333333333,\"#9c179e\"],[0.4444444444444444,\"#bd3786\"],[0.5555555555555556,\"#d8576b\"],[0.6666666666666666,\"#ed7953\"],[0.7777777777777778,\"#fb9f3a\"],[0.8888888888888888,\"#fdca26\"],[1.0,\"#f0f921\"]]}],\"mesh3d\":[{\"type\":\"mesh3d\",\"colorbar\":{\"outlinewidth\":0,\"ticks\":\"\"}}],\"scatter\":[{\"fillpattern\":{\"fillmode\":\"overlay\",\"size\":10,\"solidity\":0.2},\"type\":\"scatter\"}],\"parcoords\":[{\"type\":\"parcoords\",\"line\":{\"colorbar\":{\"outlinewidth\":0,\"ticks\":\"\"}}}],\"scatterpolargl\":[{\"type\":\"scatterpolargl\",\"marker\":{\"colorbar\":{\"outlinewidth\":0,\"ticks\":\"\"}}}],\"bar\":[{\"error_x\":{\"color\":\"#2a3f5f\"},\"error_y\":{\"color\":\"#2a3f5f\"},\"marker\":{\"line\":{\"color\":\"#E5ECF6\",\"width\":0.5},\"pattern\":{\"fillmode\":\"overlay\",\"size\":10,\"solidity\":0.2}},\"type\":\"bar\"}],\"scattergeo\":[{\"type\":\"scattergeo\",\"marker\":{\"colorbar\":{\"outlinewidth\":0,\"ticks\":\"\"}}}],\"scatterpolar\":[{\"type\":\"scatterpolar\",\"marker\":{\"colorbar\":{\"outlinewidth\":0,\"ticks\":\"\"}}}],\"histogram\":[{\"marker\":{\"pattern\":{\"fillmode\":\"overlay\",\"size\":10,\"solidity\":0.2}},\"type\":\"histogram\"}],\"scattergl\":[{\"type\":\"scattergl\",\"marker\":{\"colorbar\":{\"outlinewidth\":0,\"ticks\":\"\"}}}],\"scatter3d\":[{\"type\":\"scatter3d\",\"line\":{\"colorbar\":{\"outlinewidth\":0,\"ticks\":\"\"}},\"marker\":{\"colorbar\":{\"outlinewidth\":0,\"ticks\":\"\"}}}],\"scattermapbox\":[{\"type\":\"scattermapbox\",\"marker\":{\"colorbar\":{\"outlinewidth\":0,\"ticks\":\"\"}}}],\"scatterternary\":[{\"type\":\"scatterternary\",\"marker\":{\"colorbar\":{\"outlinewidth\":0,\"ticks\":\"\"}}}],\"scattercarpet\":[{\"type\":\"scattercarpet\",\"marker\":{\"colorbar\":{\"outlinewidth\":0,\"ticks\":\"\"}}}],\"carpet\":[{\"aaxis\":{\"endlinecolor\":\"#2a3f5f\",\"gridcolor\":\"white\",\"linecolor\":\"white\",\"minorgridcolor\":\"white\",\"startlinecolor\":\"#2a3f5f\"},\"baxis\":{\"endlinecolor\":\"#2a3f5f\",\"gridcolor\":\"white\",\"linecolor\":\"white\",\"minorgridcolor\":\"white\",\"startlinecolor\":\"#2a3f5f\"},\"type\":\"carpet\"}],\"table\":[{\"cells\":{\"fill\":{\"color\":\"#EBF0F8\"},\"line\":{\"color\":\"white\"}},\"header\":{\"fill\":{\"color\":\"#C8D4E3\"},\"line\":{\"color\":\"white\"}},\"type\":\"table\"}],\"barpolar\":[{\"marker\":{\"line\":{\"color\":\"#E5ECF6\",\"width\":0.5},\"pattern\":{\"fillmode\":\"overlay\",\"size\":10,\"solidity\":0.2}},\"type\":\"barpolar\"}],\"pie\":[{\"automargin\":true,\"type\":\"pie\"}]},\"layout\":{\"autotypenumbers\":\"strict\",\"colorway\":[\"#636efa\",\"#EF553B\",\"#00cc96\",\"#ab63fa\",\"#FFA15A\",\"#19d3f3\",\"#FF6692\",\"#B6E880\",\"#FF97FF\",\"#FECB52\"],\"font\":{\"color\":\"#2a3f5f\"},\"hovermode\":\"closest\",\"hoverlabel\":{\"align\":\"left\"},\"paper_bgcolor\":\"white\",\"plot_bgcolor\":\"#E5ECF6\",\"polar\":{\"bgcolor\":\"#E5ECF6\",\"angularaxis\":{\"gridcolor\":\"white\",\"linecolor\":\"white\",\"ticks\":\"\"},\"radialaxis\":{\"gridcolor\":\"white\",\"linecolor\":\"white\",\"ticks\":\"\"}},\"ternary\":{\"bgcolor\":\"#E5ECF6\",\"aaxis\":{\"gridcolor\":\"white\",\"linecolor\":\"white\",\"ticks\":\"\"},\"baxis\":{\"gridcolor\":\"white\",\"linecolor\":\"white\",\"ticks\":\"\"},\"caxis\":{\"gridcolor\":\"white\",\"linecolor\":\"white\",\"ticks\":\"\"}},\"coloraxis\":{\"colorbar\":{\"outlinewidth\":0,\"ticks\":\"\"}},\"colorscale\":{\"sequential\":[[0.0,\"#0d0887\"],[0.1111111111111111,\"#46039f\"],[0.2222222222222222,\"#7201a8\"],[0.3333333333333333,\"#9c179e\"],[0.4444444444444444,\"#bd3786\"],[0.5555555555555556,\"#d8576b\"],[0.6666666666666666,\"#ed7953\"],[0.7777777777777778,\"#fb9f3a\"],[0.8888888888888888,\"#fdca26\"],[1.0,\"#f0f921\"]],\"sequentialminus\":[[0.0,\"#0d0887\"],[0.1111111111111111,\"#46039f\"],[0.2222222222222222,\"#7201a8\"],[0.3333333333333333,\"#9c179e\"],[0.4444444444444444,\"#bd3786\"],[0.5555555555555556,\"#d8576b\"],[0.6666666666666666,\"#ed7953\"],[0.7777777777777778,\"#fb9f3a\"],[0.8888888888888888,\"#fdca26\"],[1.0,\"#f0f921\"]],\"diverging\":[[0,\"#8e0152\"],[0.1,\"#c51b7d\"],[0.2,\"#de77ae\"],[0.3,\"#f1b6da\"],[0.4,\"#fde0ef\"],[0.5,\"#f7f7f7\"],[0.6,\"#e6f5d0\"],[0.7,\"#b8e186\"],[0.8,\"#7fbc41\"],[0.9,\"#4d9221\"],[1,\"#276419\"]]},\"xaxis\":{\"gridcolor\":\"white\",\"linecolor\":\"white\",\"ticks\":\"\",\"title\":{\"standoff\":15},\"zerolinecolor\":\"white\",\"automargin\":true,\"zerolinewidth\":2},\"yaxis\":{\"gridcolor\":\"white\",\"linecolor\":\"white\",\"ticks\":\"\",\"title\":{\"standoff\":15},\"zerolinecolor\":\"white\",\"automargin\":true,\"zerolinewidth\":2},\"scene\":{\"xaxis\":{\"backgroundcolor\":\"#E5ECF6\",\"gridcolor\":\"white\",\"linecolor\":\"white\",\"showbackground\":true,\"ticks\":\"\",\"zerolinecolor\":\"white\",\"gridwidth\":2},\"yaxis\":{\"backgroundcolor\":\"#E5ECF6\",\"gridcolor\":\"white\",\"linecolor\":\"white\",\"showbackground\":true,\"ticks\":\"\",\"zerolinecolor\":\"white\",\"gridwidth\":2},\"zaxis\":{\"backgroundcolor\":\"#E5ECF6\",\"gridcolor\":\"white\",\"linecolor\":\"white\",\"showbackground\":true,\"ticks\":\"\",\"zerolinecolor\":\"white\",\"gridwidth\":2}},\"shapedefaults\":{\"line\":{\"color\":\"#2a3f5f\"}},\"annotationdefaults\":{\"arrowcolor\":\"#2a3f5f\",\"arrowhead\":0,\"arrowwidth\":1},\"geo\":{\"bgcolor\":\"white\",\"landcolor\":\"#E5ECF6\",\"subunitcolor\":\"white\",\"showland\":true,\"showlakes\":true,\"lakecolor\":\"white\"},\"title\":{\"x\":0.05},\"mapbox\":{\"style\":\"light\"}}},\"geo\":{\"domain\":{\"x\":[0.0,1.0],\"y\":[0.0,1.0]},\"center\":{}},\"coloraxis\":{\"colorbar\":{\"title\":{\"text\":\"Monthly_revenue\"}},\"colorscale\":[[0.0,\"#0d0887\"],[0.1111111111111111,\"#46039f\"],[0.2222222222222222,\"#7201a8\"],[0.3333333333333333,\"#9c179e\"],[0.4444444444444444,\"#bd3786\"],[0.5555555555555556,\"#d8576b\"],[0.6666666666666666,\"#ed7953\"],[0.7777777777777778,\"#fb9f3a\"],[0.8888888888888888,\"#fdca26\"],[1.0,\"#f0f921\"]]},\"legend\":{\"tracegroupgap\":0},\"title\":{\"text\":\"Total Netflix Revenue by Country\"}},                        {\"responsive\": true}                    ).then(function(){\n",
              "                            \n",
              "var gd = document.getElementById('96773566-0e1c-436b-a17c-5a3fc3f2bd1b');\n",
              "var x = new MutationObserver(function (mutations, observer) {{\n",
              "        var display = window.getComputedStyle(gd).display;\n",
              "        if (!display || display === 'none') {{\n",
              "            console.log([gd, 'removed!']);\n",
              "            Plotly.purge(gd);\n",
              "            observer.disconnect();\n",
              "        }}\n",
              "}});\n",
              "\n",
              "// Listen for the removal of the full notebook cells\n",
              "var notebookContainer = gd.closest('#notebook-container');\n",
              "if (notebookContainer) {{\n",
              "    x.observe(notebookContainer, {childList: true});\n",
              "}}\n",
              "\n",
              "// Listen for the clearing of the current output cell\n",
              "var outputEl = gd.closest('.output');\n",
              "if (outputEl) {{\n",
              "    x.observe(outputEl, {childList: true});\n",
              "}}\n",
              "\n",
              "                        })                };                            </script>        </div>\n",
              "</body>\n",
              "</html>"
            ]
          },
          "metadata": {}
        },
        {
          "output_type": "display_data",
          "data": {
            "text/html": [
              "<html>\n",
              "<head><meta charset=\"utf-8\" /></head>\n",
              "<body>\n",
              "    <div>            <script src=\"https://cdnjs.cloudflare.com/ajax/libs/mathjax/2.7.5/MathJax.js?config=TeX-AMS-MML_SVG\"></script><script type=\"text/javascript\">if (window.MathJax && window.MathJax.Hub && window.MathJax.Hub.Config) {window.MathJax.Hub.Config({SVG: {font: \"STIX-Web\"}});}</script>                <script type=\"text/javascript\">window.PlotlyConfig = {MathJaxConfig: 'local'};</script>\n",
              "        <script charset=\"utf-8\" src=\"https://cdn.plot.ly/plotly-2.24.1.min.js\"></script>                <div id=\"9b012f2f-5d14-4e5a-b942-19fba521d8b9\" class=\"plotly-graph-div\" style=\"height:525px; width:100%;\"></div>            <script type=\"text/javascript\">                                    window.PLOTLYENV=window.PLOTLYENV || {};                                    if (document.getElementById(\"9b012f2f-5d14-4e5a-b942-19fba521d8b9\")) {                    Plotly.newPlot(                        \"9b012f2f-5d14-4e5a-b942-19fba521d8b9\",                        [{\"coloraxis\":\"coloraxis\",\"geo\":\"geo\",\"hovertemplate\":\"\\u003cb\\u003e%{hovertext}\\u003c\\u002fb\\u003e\\u003cbr\\u003e\\u003cbr\\u003eCountry=%{location}\\u003cbr\\u003eUser_Count=%{z}\\u003cextra\\u003e\\u003c\\u002fextra\\u003e\",\"hovertext\":[\"Australia\",\"Brazil\",\"Canada\",\"France\",\"Germany\",\"Italy\",\"Mexico\",\"Spain\",\"United Kingdom\",\"United States\"],\"locationmode\":\"country names\",\"locations\":[\"Australia\",\"Brazil\",\"Canada\",\"France\",\"Germany\",\"Italy\",\"Mexico\",\"Spain\",\"United Kingdom\",\"United States\"],\"name\":\"\",\"z\":[183,183,317,183,183,183,183,451,183,451],\"type\":\"choropleth\"}],                        {\"template\":{\"data\":{\"histogram2dcontour\":[{\"type\":\"histogram2dcontour\",\"colorbar\":{\"outlinewidth\":0,\"ticks\":\"\"},\"colorscale\":[[0.0,\"#0d0887\"],[0.1111111111111111,\"#46039f\"],[0.2222222222222222,\"#7201a8\"],[0.3333333333333333,\"#9c179e\"],[0.4444444444444444,\"#bd3786\"],[0.5555555555555556,\"#d8576b\"],[0.6666666666666666,\"#ed7953\"],[0.7777777777777778,\"#fb9f3a\"],[0.8888888888888888,\"#fdca26\"],[1.0,\"#f0f921\"]]}],\"choropleth\":[{\"type\":\"choropleth\",\"colorbar\":{\"outlinewidth\":0,\"ticks\":\"\"}}],\"histogram2d\":[{\"type\":\"histogram2d\",\"colorbar\":{\"outlinewidth\":0,\"ticks\":\"\"},\"colorscale\":[[0.0,\"#0d0887\"],[0.1111111111111111,\"#46039f\"],[0.2222222222222222,\"#7201a8\"],[0.3333333333333333,\"#9c179e\"],[0.4444444444444444,\"#bd3786\"],[0.5555555555555556,\"#d8576b\"],[0.6666666666666666,\"#ed7953\"],[0.7777777777777778,\"#fb9f3a\"],[0.8888888888888888,\"#fdca26\"],[1.0,\"#f0f921\"]]}],\"heatmap\":[{\"type\":\"heatmap\",\"colorbar\":{\"outlinewidth\":0,\"ticks\":\"\"},\"colorscale\":[[0.0,\"#0d0887\"],[0.1111111111111111,\"#46039f\"],[0.2222222222222222,\"#7201a8\"],[0.3333333333333333,\"#9c179e\"],[0.4444444444444444,\"#bd3786\"],[0.5555555555555556,\"#d8576b\"],[0.6666666666666666,\"#ed7953\"],[0.7777777777777778,\"#fb9f3a\"],[0.8888888888888888,\"#fdca26\"],[1.0,\"#f0f921\"]]}],\"heatmapgl\":[{\"type\":\"heatmapgl\",\"colorbar\":{\"outlinewidth\":0,\"ticks\":\"\"},\"colorscale\":[[0.0,\"#0d0887\"],[0.1111111111111111,\"#46039f\"],[0.2222222222222222,\"#7201a8\"],[0.3333333333333333,\"#9c179e\"],[0.4444444444444444,\"#bd3786\"],[0.5555555555555556,\"#d8576b\"],[0.6666666666666666,\"#ed7953\"],[0.7777777777777778,\"#fb9f3a\"],[0.8888888888888888,\"#fdca26\"],[1.0,\"#f0f921\"]]}],\"contourcarpet\":[{\"type\":\"contourcarpet\",\"colorbar\":{\"outlinewidth\":0,\"ticks\":\"\"}}],\"contour\":[{\"type\":\"contour\",\"colorbar\":{\"outlinewidth\":0,\"ticks\":\"\"},\"colorscale\":[[0.0,\"#0d0887\"],[0.1111111111111111,\"#46039f\"],[0.2222222222222222,\"#7201a8\"],[0.3333333333333333,\"#9c179e\"],[0.4444444444444444,\"#bd3786\"],[0.5555555555555556,\"#d8576b\"],[0.6666666666666666,\"#ed7953\"],[0.7777777777777778,\"#fb9f3a\"],[0.8888888888888888,\"#fdca26\"],[1.0,\"#f0f921\"]]}],\"surface\":[{\"type\":\"surface\",\"colorbar\":{\"outlinewidth\":0,\"ticks\":\"\"},\"colorscale\":[[0.0,\"#0d0887\"],[0.1111111111111111,\"#46039f\"],[0.2222222222222222,\"#7201a8\"],[0.3333333333333333,\"#9c179e\"],[0.4444444444444444,\"#bd3786\"],[0.5555555555555556,\"#d8576b\"],[0.6666666666666666,\"#ed7953\"],[0.7777777777777778,\"#fb9f3a\"],[0.8888888888888888,\"#fdca26\"],[1.0,\"#f0f921\"]]}],\"mesh3d\":[{\"type\":\"mesh3d\",\"colorbar\":{\"outlinewidth\":0,\"ticks\":\"\"}}],\"scatter\":[{\"fillpattern\":{\"fillmode\":\"overlay\",\"size\":10,\"solidity\":0.2},\"type\":\"scatter\"}],\"parcoords\":[{\"type\":\"parcoords\",\"line\":{\"colorbar\":{\"outlinewidth\":0,\"ticks\":\"\"}}}],\"scatterpolargl\":[{\"type\":\"scatterpolargl\",\"marker\":{\"colorbar\":{\"outlinewidth\":0,\"ticks\":\"\"}}}],\"bar\":[{\"error_x\":{\"color\":\"#2a3f5f\"},\"error_y\":{\"color\":\"#2a3f5f\"},\"marker\":{\"line\":{\"color\":\"#E5ECF6\",\"width\":0.5},\"pattern\":{\"fillmode\":\"overlay\",\"size\":10,\"solidity\":0.2}},\"type\":\"bar\"}],\"scattergeo\":[{\"type\":\"scattergeo\",\"marker\":{\"colorbar\":{\"outlinewidth\":0,\"ticks\":\"\"}}}],\"scatterpolar\":[{\"type\":\"scatterpolar\",\"marker\":{\"colorbar\":{\"outlinewidth\":0,\"ticks\":\"\"}}}],\"histogram\":[{\"marker\":{\"pattern\":{\"fillmode\":\"overlay\",\"size\":10,\"solidity\":0.2}},\"type\":\"histogram\"}],\"scattergl\":[{\"type\":\"scattergl\",\"marker\":{\"colorbar\":{\"outlinewidth\":0,\"ticks\":\"\"}}}],\"scatter3d\":[{\"type\":\"scatter3d\",\"line\":{\"colorbar\":{\"outlinewidth\":0,\"ticks\":\"\"}},\"marker\":{\"colorbar\":{\"outlinewidth\":0,\"ticks\":\"\"}}}],\"scattermapbox\":[{\"type\":\"scattermapbox\",\"marker\":{\"colorbar\":{\"outlinewidth\":0,\"ticks\":\"\"}}}],\"scatterternary\":[{\"type\":\"scatterternary\",\"marker\":{\"colorbar\":{\"outlinewidth\":0,\"ticks\":\"\"}}}],\"scattercarpet\":[{\"type\":\"scattercarpet\",\"marker\":{\"colorbar\":{\"outlinewidth\":0,\"ticks\":\"\"}}}],\"carpet\":[{\"aaxis\":{\"endlinecolor\":\"#2a3f5f\",\"gridcolor\":\"white\",\"linecolor\":\"white\",\"minorgridcolor\":\"white\",\"startlinecolor\":\"#2a3f5f\"},\"baxis\":{\"endlinecolor\":\"#2a3f5f\",\"gridcolor\":\"white\",\"linecolor\":\"white\",\"minorgridcolor\":\"white\",\"startlinecolor\":\"#2a3f5f\"},\"type\":\"carpet\"}],\"table\":[{\"cells\":{\"fill\":{\"color\":\"#EBF0F8\"},\"line\":{\"color\":\"white\"}},\"header\":{\"fill\":{\"color\":\"#C8D4E3\"},\"line\":{\"color\":\"white\"}},\"type\":\"table\"}],\"barpolar\":[{\"marker\":{\"line\":{\"color\":\"#E5ECF6\",\"width\":0.5},\"pattern\":{\"fillmode\":\"overlay\",\"size\":10,\"solidity\":0.2}},\"type\":\"barpolar\"}],\"pie\":[{\"automargin\":true,\"type\":\"pie\"}]},\"layout\":{\"autotypenumbers\":\"strict\",\"colorway\":[\"#636efa\",\"#EF553B\",\"#00cc96\",\"#ab63fa\",\"#FFA15A\",\"#19d3f3\",\"#FF6692\",\"#B6E880\",\"#FF97FF\",\"#FECB52\"],\"font\":{\"color\":\"#2a3f5f\"},\"hovermode\":\"closest\",\"hoverlabel\":{\"align\":\"left\"},\"paper_bgcolor\":\"white\",\"plot_bgcolor\":\"#E5ECF6\",\"polar\":{\"bgcolor\":\"#E5ECF6\",\"angularaxis\":{\"gridcolor\":\"white\",\"linecolor\":\"white\",\"ticks\":\"\"},\"radialaxis\":{\"gridcolor\":\"white\",\"linecolor\":\"white\",\"ticks\":\"\"}},\"ternary\":{\"bgcolor\":\"#E5ECF6\",\"aaxis\":{\"gridcolor\":\"white\",\"linecolor\":\"white\",\"ticks\":\"\"},\"baxis\":{\"gridcolor\":\"white\",\"linecolor\":\"white\",\"ticks\":\"\"},\"caxis\":{\"gridcolor\":\"white\",\"linecolor\":\"white\",\"ticks\":\"\"}},\"coloraxis\":{\"colorbar\":{\"outlinewidth\":0,\"ticks\":\"\"}},\"colorscale\":{\"sequential\":[[0.0,\"#0d0887\"],[0.1111111111111111,\"#46039f\"],[0.2222222222222222,\"#7201a8\"],[0.3333333333333333,\"#9c179e\"],[0.4444444444444444,\"#bd3786\"],[0.5555555555555556,\"#d8576b\"],[0.6666666666666666,\"#ed7953\"],[0.7777777777777778,\"#fb9f3a\"],[0.8888888888888888,\"#fdca26\"],[1.0,\"#f0f921\"]],\"sequentialminus\":[[0.0,\"#0d0887\"],[0.1111111111111111,\"#46039f\"],[0.2222222222222222,\"#7201a8\"],[0.3333333333333333,\"#9c179e\"],[0.4444444444444444,\"#bd3786\"],[0.5555555555555556,\"#d8576b\"],[0.6666666666666666,\"#ed7953\"],[0.7777777777777778,\"#fb9f3a\"],[0.8888888888888888,\"#fdca26\"],[1.0,\"#f0f921\"]],\"diverging\":[[0,\"#8e0152\"],[0.1,\"#c51b7d\"],[0.2,\"#de77ae\"],[0.3,\"#f1b6da\"],[0.4,\"#fde0ef\"],[0.5,\"#f7f7f7\"],[0.6,\"#e6f5d0\"],[0.7,\"#b8e186\"],[0.8,\"#7fbc41\"],[0.9,\"#4d9221\"],[1,\"#276419\"]]},\"xaxis\":{\"gridcolor\":\"white\",\"linecolor\":\"white\",\"ticks\":\"\",\"title\":{\"standoff\":15},\"zerolinecolor\":\"white\",\"automargin\":true,\"zerolinewidth\":2},\"yaxis\":{\"gridcolor\":\"white\",\"linecolor\":\"white\",\"ticks\":\"\",\"title\":{\"standoff\":15},\"zerolinecolor\":\"white\",\"automargin\":true,\"zerolinewidth\":2},\"scene\":{\"xaxis\":{\"backgroundcolor\":\"#E5ECF6\",\"gridcolor\":\"white\",\"linecolor\":\"white\",\"showbackground\":true,\"ticks\":\"\",\"zerolinecolor\":\"white\",\"gridwidth\":2},\"yaxis\":{\"backgroundcolor\":\"#E5ECF6\",\"gridcolor\":\"white\",\"linecolor\":\"white\",\"showbackground\":true,\"ticks\":\"\",\"zerolinecolor\":\"white\",\"gridwidth\":2},\"zaxis\":{\"backgroundcolor\":\"#E5ECF6\",\"gridcolor\":\"white\",\"linecolor\":\"white\",\"showbackground\":true,\"ticks\":\"\",\"zerolinecolor\":\"white\",\"gridwidth\":2}},\"shapedefaults\":{\"line\":{\"color\":\"#2a3f5f\"}},\"annotationdefaults\":{\"arrowcolor\":\"#2a3f5f\",\"arrowhead\":0,\"arrowwidth\":1},\"geo\":{\"bgcolor\":\"white\",\"landcolor\":\"#E5ECF6\",\"subunitcolor\":\"white\",\"showland\":true,\"showlakes\":true,\"lakecolor\":\"white\"},\"title\":{\"x\":0.05},\"mapbox\":{\"style\":\"light\"}}},\"geo\":{\"domain\":{\"x\":[0.0,1.0],\"y\":[0.0,1.0]},\"center\":{}},\"coloraxis\":{\"colorbar\":{\"title\":{\"text\":\"User_Count\"}},\"colorscale\":[[0.0,\"#440154\"],[0.1111111111111111,\"#482878\"],[0.2222222222222222,\"#3e4989\"],[0.3333333333333333,\"#31688e\"],[0.4444444444444444,\"#26828e\"],[0.5555555555555556,\"#1f9e89\"],[0.6666666666666666,\"#35b779\"],[0.7777777777777778,\"#6ece58\"],[0.8888888888888888,\"#b5de2b\"],[1.0,\"#fde725\"]]},\"legend\":{\"tracegroupgap\":0},\"title\":{\"text\":\"Number of Netflix Users by Country\"}},                        {\"responsive\": true}                    ).then(function(){\n",
              "                            \n",
              "var gd = document.getElementById('9b012f2f-5d14-4e5a-b942-19fba521d8b9');\n",
              "var x = new MutationObserver(function (mutations, observer) {{\n",
              "        var display = window.getComputedStyle(gd).display;\n",
              "        if (!display || display === 'none') {{\n",
              "            console.log([gd, 'removed!']);\n",
              "            Plotly.purge(gd);\n",
              "            observer.disconnect();\n",
              "        }}\n",
              "}});\n",
              "\n",
              "// Listen for the removal of the full notebook cells\n",
              "var notebookContainer = gd.closest('#notebook-container');\n",
              "if (notebookContainer) {{\n",
              "    x.observe(notebookContainer, {childList: true});\n",
              "}}\n",
              "\n",
              "// Listen for the clearing of the current output cell\n",
              "var outputEl = gd.closest('.output');\n",
              "if (outputEl) {{\n",
              "    x.observe(outputEl, {childList: true});\n",
              "}}\n",
              "\n",
              "                        })                };                            </script>        </div>\n",
              "</body>\n",
              "</html>"
            ]
          },
          "metadata": {}
        }
      ]
    },
    {
      "cell_type": "markdown",
      "source": [
        "## RandomForestClassifier"
      ],
      "metadata": {
        "id": "FH23sr4UjIkh"
      }
    },
    {
      "cell_type": "code",
      "source": [
        "import pandas as pd\n",
        "from sklearn.ensemble import RandomForestClassifier"
      ],
      "metadata": {
        "id": "B_ng-Aez3uRb"
      },
      "execution_count": 33,
      "outputs": []
    },
    {
      "cell_type": "code",
      "source": [
        "\n",
        "# Convert the Subscription Type column to numeric\n",
        "df['Sub_type'] = pd.to_numeric(df['Sub_type'], errors='coerce')\n",
        "# Convert the Join Date column to datetime\n",
        "df['First_sub_date'] = pd.to_datetime(df['First_sub_date'],format='%Y-%m-%d')\n",
        "df['Last_sub_date'] = pd.to_datetime(df['Last_sub_date'],format='%Y-%m-%d')\n",
        "df['Plan_duration'] = df['Plan_duration'].map({\n",
        "    '1 Month': 1,\n",
        "    '3 Month': 3,\n",
        "    '12 Month':12\n",
        "})"
      ],
      "metadata": {
        "id": "MOibq-9zwAGC"
      },
      "execution_count": 34,
      "outputs": []
    },
    {
      "cell_type": "code",
      "source": [
        "df['First_sub_date'] = df['First_sub_date'].dt.strftime('%Y-%m-%d')\n",
        "\n",
        "# Convert the Last Payment Date column to string\n",
        "df['Last_sub_date'] = df['Last_sub_date'].dt.strftime('%Y-%m-%d')"
      ],
      "metadata": {
        "id": "KxRutY4u1e3X"
      },
      "execution_count": 35,
      "outputs": []
    },
    {
      "cell_type": "code",
      "source": [
        "\n",
        "X_train, X_test, y_train, y_test = train_test_split(df, df['Sub_type'], test_size=0.2)\n",
        "\n"
      ],
      "metadata": {
        "id": "P4OgV8LWmbtX"
      },
      "execution_count": 36,
      "outputs": []
    },
    {
      "cell_type": "code",
      "source": [
        "rfc = RandomForestClassifier(n_estimators=100, random_state=0)\n",
        "\n"
      ],
      "metadata": {
        "id": "pgoLKYxRnwm8"
      },
      "execution_count": 37,
      "outputs": []
    },
    {
      "cell_type": "code",
      "source": [
        "rfc.fit(X_train,y_train)\n"
      ],
      "metadata": {
        "colab": {
          "base_uri": "https://localhost:8080/",
          "height": 321
        },
        "id": "gunJjTzXn4m0",
        "outputId": "fd7387ba-5c87-4683-ff97-81160e3edbbc"
      },
      "execution_count": 44,
      "outputs": [
        {
          "output_type": "error",
          "ename": "ValueError",
          "evalue": "ignored",
          "traceback": [
            "\u001b[0;31m---------------------------------------------------------------------------\u001b[0m",
            "\u001b[0;31mValueError\u001b[0m                                Traceback (most recent call last)",
            "\u001b[0;32m<ipython-input-44-0b00acaf8842>\u001b[0m in \u001b[0;36m<cell line: 1>\u001b[0;34m()\u001b[0m\n\u001b[0;32m----> 1\u001b[0;31m \u001b[0mrfc\u001b[0m\u001b[0;34m.\u001b[0m\u001b[0mfit\u001b[0m\u001b[0;34m(\u001b[0m\u001b[0mX_train\u001b[0m\u001b[0;34m,\u001b[0m\u001b[0my_train\u001b[0m\u001b[0;34m)\u001b[0m\u001b[0;34m\u001b[0m\u001b[0;34m\u001b[0m\u001b[0m\n\u001b[0m",
            "\u001b[0;32m/usr/local/lib/python3.10/dist-packages/sklearn/ensemble/_forest.py\u001b[0m in \u001b[0;36mfit\u001b[0;34m(self, X, y, sample_weight)\u001b[0m\n\u001b[1;32m    343\u001b[0m         \u001b[0;32mif\u001b[0m \u001b[0missparse\u001b[0m\u001b[0;34m(\u001b[0m\u001b[0my\u001b[0m\u001b[0;34m)\u001b[0m\u001b[0;34m:\u001b[0m\u001b[0;34m\u001b[0m\u001b[0;34m\u001b[0m\u001b[0m\n\u001b[1;32m    344\u001b[0m             \u001b[0;32mraise\u001b[0m \u001b[0mValueError\u001b[0m\u001b[0;34m(\u001b[0m\u001b[0;34m\"sparse multilabel-indicator for y is not supported.\"\u001b[0m\u001b[0;34m)\u001b[0m\u001b[0;34m\u001b[0m\u001b[0;34m\u001b[0m\u001b[0m\n\u001b[0;32m--> 345\u001b[0;31m         X, y = self._validate_data(\n\u001b[0m\u001b[1;32m    346\u001b[0m             \u001b[0mX\u001b[0m\u001b[0;34m,\u001b[0m \u001b[0my\u001b[0m\u001b[0;34m,\u001b[0m \u001b[0mmulti_output\u001b[0m\u001b[0;34m=\u001b[0m\u001b[0;32mTrue\u001b[0m\u001b[0;34m,\u001b[0m \u001b[0maccept_sparse\u001b[0m\u001b[0;34m=\u001b[0m\u001b[0;34m\"csc\"\u001b[0m\u001b[0;34m,\u001b[0m \u001b[0mdtype\u001b[0m\u001b[0;34m=\u001b[0m\u001b[0mDTYPE\u001b[0m\u001b[0;34m\u001b[0m\u001b[0;34m\u001b[0m\u001b[0m\n\u001b[1;32m    347\u001b[0m         )\n",
            "\u001b[0;32m/usr/local/lib/python3.10/dist-packages/sklearn/base.py\u001b[0m in \u001b[0;36m_validate_data\u001b[0;34m(self, X, y, reset, validate_separately, **check_params)\u001b[0m\n\u001b[1;32m    582\u001b[0m                 \u001b[0my\u001b[0m \u001b[0;34m=\u001b[0m \u001b[0mcheck_array\u001b[0m\u001b[0;34m(\u001b[0m\u001b[0my\u001b[0m\u001b[0;34m,\u001b[0m \u001b[0minput_name\u001b[0m\u001b[0;34m=\u001b[0m\u001b[0;34m\"y\"\u001b[0m\u001b[0;34m,\u001b[0m \u001b[0;34m**\u001b[0m\u001b[0mcheck_y_params\u001b[0m\u001b[0;34m)\u001b[0m\u001b[0;34m\u001b[0m\u001b[0;34m\u001b[0m\u001b[0m\n\u001b[1;32m    583\u001b[0m             \u001b[0;32melse\u001b[0m\u001b[0;34m:\u001b[0m\u001b[0;34m\u001b[0m\u001b[0;34m\u001b[0m\u001b[0m\n\u001b[0;32m--> 584\u001b[0;31m                 \u001b[0mX\u001b[0m\u001b[0;34m,\u001b[0m \u001b[0my\u001b[0m \u001b[0;34m=\u001b[0m \u001b[0mcheck_X_y\u001b[0m\u001b[0;34m(\u001b[0m\u001b[0mX\u001b[0m\u001b[0;34m,\u001b[0m \u001b[0my\u001b[0m\u001b[0;34m,\u001b[0m \u001b[0;34m**\u001b[0m\u001b[0mcheck_params\u001b[0m\u001b[0;34m)\u001b[0m\u001b[0;34m\u001b[0m\u001b[0;34m\u001b[0m\u001b[0m\n\u001b[0m\u001b[1;32m    585\u001b[0m             \u001b[0mout\u001b[0m \u001b[0;34m=\u001b[0m \u001b[0mX\u001b[0m\u001b[0;34m,\u001b[0m \u001b[0my\u001b[0m\u001b[0;34m\u001b[0m\u001b[0;34m\u001b[0m\u001b[0m\n\u001b[1;32m    586\u001b[0m \u001b[0;34m\u001b[0m\u001b[0m\n",
            "\u001b[0;32m/usr/local/lib/python3.10/dist-packages/sklearn/utils/validation.py\u001b[0m in \u001b[0;36mcheck_X_y\u001b[0;34m(X, y, accept_sparse, accept_large_sparse, dtype, order, copy, force_all_finite, ensure_2d, allow_nd, multi_output, ensure_min_samples, ensure_min_features, y_numeric, estimator)\u001b[0m\n\u001b[1;32m   1104\u001b[0m         )\n\u001b[1;32m   1105\u001b[0m \u001b[0;34m\u001b[0m\u001b[0m\n\u001b[0;32m-> 1106\u001b[0;31m     X = check_array(\n\u001b[0m\u001b[1;32m   1107\u001b[0m         \u001b[0mX\u001b[0m\u001b[0;34m,\u001b[0m\u001b[0;34m\u001b[0m\u001b[0;34m\u001b[0m\u001b[0m\n\u001b[1;32m   1108\u001b[0m         \u001b[0maccept_sparse\u001b[0m\u001b[0;34m=\u001b[0m\u001b[0maccept_sparse\u001b[0m\u001b[0;34m,\u001b[0m\u001b[0;34m\u001b[0m\u001b[0;34m\u001b[0m\u001b[0m\n",
            "\u001b[0;32m/usr/local/lib/python3.10/dist-packages/sklearn/utils/validation.py\u001b[0m in \u001b[0;36mcheck_array\u001b[0;34m(array, accept_sparse, accept_large_sparse, dtype, order, copy, force_all_finite, ensure_2d, allow_nd, ensure_min_samples, ensure_min_features, estimator, input_name)\u001b[0m\n\u001b[1;32m    877\u001b[0m                     \u001b[0marray\u001b[0m \u001b[0;34m=\u001b[0m \u001b[0mxp\u001b[0m\u001b[0;34m.\u001b[0m\u001b[0mastype\u001b[0m\u001b[0;34m(\u001b[0m\u001b[0marray\u001b[0m\u001b[0;34m,\u001b[0m \u001b[0mdtype\u001b[0m\u001b[0;34m,\u001b[0m \u001b[0mcopy\u001b[0m\u001b[0;34m=\u001b[0m\u001b[0;32mFalse\u001b[0m\u001b[0;34m)\u001b[0m\u001b[0;34m\u001b[0m\u001b[0;34m\u001b[0m\u001b[0m\n\u001b[1;32m    878\u001b[0m                 \u001b[0;32melse\u001b[0m\u001b[0;34m:\u001b[0m\u001b[0;34m\u001b[0m\u001b[0;34m\u001b[0m\u001b[0m\n\u001b[0;32m--> 879\u001b[0;31m                     \u001b[0marray\u001b[0m \u001b[0;34m=\u001b[0m \u001b[0m_asarray_with_order\u001b[0m\u001b[0;34m(\u001b[0m\u001b[0marray\u001b[0m\u001b[0;34m,\u001b[0m \u001b[0morder\u001b[0m\u001b[0;34m=\u001b[0m\u001b[0morder\u001b[0m\u001b[0;34m,\u001b[0m \u001b[0mdtype\u001b[0m\u001b[0;34m=\u001b[0m\u001b[0mdtype\u001b[0m\u001b[0;34m,\u001b[0m \u001b[0mxp\u001b[0m\u001b[0;34m=\u001b[0m\u001b[0mxp\u001b[0m\u001b[0;34m)\u001b[0m\u001b[0;34m\u001b[0m\u001b[0;34m\u001b[0m\u001b[0m\n\u001b[0m\u001b[1;32m    880\u001b[0m             \u001b[0;32mexcept\u001b[0m \u001b[0mComplexWarning\u001b[0m \u001b[0;32mas\u001b[0m \u001b[0mcomplex_warning\u001b[0m\u001b[0;34m:\u001b[0m\u001b[0;34m\u001b[0m\u001b[0;34m\u001b[0m\u001b[0m\n\u001b[1;32m    881\u001b[0m                 raise ValueError(\n",
            "\u001b[0;32m/usr/local/lib/python3.10/dist-packages/sklearn/utils/_array_api.py\u001b[0m in \u001b[0;36m_asarray_with_order\u001b[0;34m(array, dtype, order, copy, xp)\u001b[0m\n\u001b[1;32m    183\u001b[0m     \u001b[0;32mif\u001b[0m \u001b[0mxp\u001b[0m\u001b[0;34m.\u001b[0m\u001b[0m__name__\u001b[0m \u001b[0;32min\u001b[0m \u001b[0;34m{\u001b[0m\u001b[0;34m\"numpy\"\u001b[0m\u001b[0;34m,\u001b[0m \u001b[0;34m\"numpy.array_api\"\u001b[0m\u001b[0;34m}\u001b[0m\u001b[0;34m:\u001b[0m\u001b[0;34m\u001b[0m\u001b[0;34m\u001b[0m\u001b[0m\n\u001b[1;32m    184\u001b[0m         \u001b[0;31m# Use NumPy API to support order\u001b[0m\u001b[0;34m\u001b[0m\u001b[0;34m\u001b[0m\u001b[0m\n\u001b[0;32m--> 185\u001b[0;31m         \u001b[0marray\u001b[0m \u001b[0;34m=\u001b[0m \u001b[0mnumpy\u001b[0m\u001b[0;34m.\u001b[0m\u001b[0masarray\u001b[0m\u001b[0;34m(\u001b[0m\u001b[0marray\u001b[0m\u001b[0;34m,\u001b[0m \u001b[0morder\u001b[0m\u001b[0;34m=\u001b[0m\u001b[0morder\u001b[0m\u001b[0;34m,\u001b[0m \u001b[0mdtype\u001b[0m\u001b[0;34m=\u001b[0m\u001b[0mdtype\u001b[0m\u001b[0;34m)\u001b[0m\u001b[0;34m\u001b[0m\u001b[0;34m\u001b[0m\u001b[0m\n\u001b[0m\u001b[1;32m    186\u001b[0m         \u001b[0;32mreturn\u001b[0m \u001b[0mxp\u001b[0m\u001b[0;34m.\u001b[0m\u001b[0masarray\u001b[0m\u001b[0;34m(\u001b[0m\u001b[0marray\u001b[0m\u001b[0;34m,\u001b[0m \u001b[0mcopy\u001b[0m\u001b[0;34m=\u001b[0m\u001b[0mcopy\u001b[0m\u001b[0;34m)\u001b[0m\u001b[0;34m\u001b[0m\u001b[0;34m\u001b[0m\u001b[0m\n\u001b[1;32m    187\u001b[0m     \u001b[0;32melse\u001b[0m\u001b[0;34m:\u001b[0m\u001b[0;34m\u001b[0m\u001b[0;34m\u001b[0m\u001b[0m\n",
            "\u001b[0;32m/usr/local/lib/python3.10/dist-packages/pandas/core/generic.py\u001b[0m in \u001b[0;36m__array__\u001b[0;34m(self, dtype)\u001b[0m\n\u001b[1;32m   2068\u001b[0m \u001b[0;34m\u001b[0m\u001b[0m\n\u001b[1;32m   2069\u001b[0m     \u001b[0;32mdef\u001b[0m \u001b[0m__array__\u001b[0m\u001b[0;34m(\u001b[0m\u001b[0mself\u001b[0m\u001b[0;34m,\u001b[0m \u001b[0mdtype\u001b[0m\u001b[0;34m:\u001b[0m \u001b[0mnpt\u001b[0m\u001b[0;34m.\u001b[0m\u001b[0mDTypeLike\u001b[0m \u001b[0;34m|\u001b[0m \u001b[0;32mNone\u001b[0m \u001b[0;34m=\u001b[0m \u001b[0;32mNone\u001b[0m\u001b[0;34m)\u001b[0m \u001b[0;34m->\u001b[0m \u001b[0mnp\u001b[0m\u001b[0;34m.\u001b[0m\u001b[0mndarray\u001b[0m\u001b[0;34m:\u001b[0m\u001b[0;34m\u001b[0m\u001b[0;34m\u001b[0m\u001b[0m\n\u001b[0;32m-> 2070\u001b[0;31m         \u001b[0;32mreturn\u001b[0m \u001b[0mnp\u001b[0m\u001b[0;34m.\u001b[0m\u001b[0masarray\u001b[0m\u001b[0;34m(\u001b[0m\u001b[0mself\u001b[0m\u001b[0;34m.\u001b[0m\u001b[0m_values\u001b[0m\u001b[0;34m,\u001b[0m \u001b[0mdtype\u001b[0m\u001b[0;34m=\u001b[0m\u001b[0mdtype\u001b[0m\u001b[0;34m)\u001b[0m\u001b[0;34m\u001b[0m\u001b[0;34m\u001b[0m\u001b[0m\n\u001b[0m\u001b[1;32m   2071\u001b[0m \u001b[0;34m\u001b[0m\u001b[0m\n\u001b[1;32m   2072\u001b[0m     def __array_wrap__(\n",
            "\u001b[0;31mValueError\u001b[0m: could not convert string to float: '2022-08-01'"
          ]
        }
      ]
    },
    {
      "cell_type": "code",
      "source": [
        "rf_classifier.fit(X_train, y_train)\n"
      ],
      "metadata": {
        "colab": {
          "base_uri": "https://localhost:8080/",
          "height": 176
        },
        "id": "v8fMsRO5n9ki",
        "outputId": "42ea0cc4-d2cc-47cc-85fb-9e2536d4cf03"
      },
      "execution_count": 39,
      "outputs": [
        {
          "output_type": "error",
          "ename": "NameError",
          "evalue": "ignored",
          "traceback": [
            "\u001b[0;31m---------------------------------------------------------------------------\u001b[0m",
            "\u001b[0;31mNameError\u001b[0m                                 Traceback (most recent call last)",
            "\u001b[0;32m<ipython-input-39-390a18adcb35>\u001b[0m in \u001b[0;36m<cell line: 1>\u001b[0;34m()\u001b[0m\n\u001b[0;32m----> 1\u001b[0;31m \u001b[0mrf_classifier\u001b[0m\u001b[0;34m.\u001b[0m\u001b[0mfit\u001b[0m\u001b[0;34m(\u001b[0m\u001b[0mX_train\u001b[0m\u001b[0;34m,\u001b[0m \u001b[0my_train\u001b[0m\u001b[0;34m)\u001b[0m\u001b[0;34m\u001b[0m\u001b[0;34m\u001b[0m\u001b[0m\n\u001b[0m",
            "\u001b[0;31mNameError\u001b[0m: name 'rf_classifier' is not defined"
          ]
        }
      ]
    },
    {
      "cell_type": "code",
      "source": [
        "X_train, X_test, y_train, y_test = train_test_split(df, df['Sub_type'], test_size=0.2)\n"
      ],
      "metadata": {
        "id": "DxWo_8AA7-2Z"
      },
      "execution_count": 40,
      "outputs": []
    },
    {
      "cell_type": "code",
      "source": [
        "dtc = DecisionTreeClassifier()\n"
      ],
      "metadata": {
        "id": "802taEsk8Z0j"
      },
      "execution_count": 41,
      "outputs": []
    },
    {
      "cell_type": "code",
      "source": [
        "dtc.fit(X_train, y_train)"
      ],
      "metadata": {
        "colab": {
          "base_uri": "https://localhost:8080/",
          "height": 321
        },
        "id": "NwvKQxHS8ePK",
        "outputId": "24f15e06-2d16-4d1c-b92a-f56352b4473d"
      },
      "execution_count": 42,
      "outputs": [
        {
          "output_type": "error",
          "ename": "ValueError",
          "evalue": "ignored",
          "traceback": [
            "\u001b[0;31m---------------------------------------------------------------------------\u001b[0m",
            "\u001b[0;31mValueError\u001b[0m                                Traceback (most recent call last)",
            "\u001b[0;32m<ipython-input-42-afa9f1ef8a7b>\u001b[0m in \u001b[0;36m<cell line: 1>\u001b[0;34m()\u001b[0m\n\u001b[0;32m----> 1\u001b[0;31m \u001b[0mdtc\u001b[0m\u001b[0;34m.\u001b[0m\u001b[0mfit\u001b[0m\u001b[0;34m(\u001b[0m\u001b[0mX_train\u001b[0m\u001b[0;34m,\u001b[0m \u001b[0my_train\u001b[0m\u001b[0;34m)\u001b[0m\u001b[0;34m\u001b[0m\u001b[0;34m\u001b[0m\u001b[0m\n\u001b[0m",
            "\u001b[0;32m/usr/local/lib/python3.10/dist-packages/sklearn/tree/_classes.py\u001b[0m in \u001b[0;36mfit\u001b[0;34m(self, X, y, sample_weight, check_input)\u001b[0m\n\u001b[1;32m    887\u001b[0m         \"\"\"\n\u001b[1;32m    888\u001b[0m \u001b[0;34m\u001b[0m\u001b[0m\n\u001b[0;32m--> 889\u001b[0;31m         super().fit(\n\u001b[0m\u001b[1;32m    890\u001b[0m             \u001b[0mX\u001b[0m\u001b[0;34m,\u001b[0m\u001b[0;34m\u001b[0m\u001b[0;34m\u001b[0m\u001b[0m\n\u001b[1;32m    891\u001b[0m             \u001b[0my\u001b[0m\u001b[0;34m,\u001b[0m\u001b[0;34m\u001b[0m\u001b[0;34m\u001b[0m\u001b[0m\n",
            "\u001b[0;32m/usr/local/lib/python3.10/dist-packages/sklearn/tree/_classes.py\u001b[0m in \u001b[0;36mfit\u001b[0;34m(self, X, y, sample_weight, check_input)\u001b[0m\n\u001b[1;32m    184\u001b[0m             \u001b[0mcheck_X_params\u001b[0m \u001b[0;34m=\u001b[0m \u001b[0mdict\u001b[0m\u001b[0;34m(\u001b[0m\u001b[0mdtype\u001b[0m\u001b[0;34m=\u001b[0m\u001b[0mDTYPE\u001b[0m\u001b[0;34m,\u001b[0m \u001b[0maccept_sparse\u001b[0m\u001b[0;34m=\u001b[0m\u001b[0;34m\"csc\"\u001b[0m\u001b[0;34m)\u001b[0m\u001b[0;34m\u001b[0m\u001b[0;34m\u001b[0m\u001b[0m\n\u001b[1;32m    185\u001b[0m             \u001b[0mcheck_y_params\u001b[0m \u001b[0;34m=\u001b[0m \u001b[0mdict\u001b[0m\u001b[0;34m(\u001b[0m\u001b[0mensure_2d\u001b[0m\u001b[0;34m=\u001b[0m\u001b[0;32mFalse\u001b[0m\u001b[0;34m,\u001b[0m \u001b[0mdtype\u001b[0m\u001b[0;34m=\u001b[0m\u001b[0;32mNone\u001b[0m\u001b[0;34m)\u001b[0m\u001b[0;34m\u001b[0m\u001b[0;34m\u001b[0m\u001b[0m\n\u001b[0;32m--> 186\u001b[0;31m             X, y = self._validate_data(\n\u001b[0m\u001b[1;32m    187\u001b[0m                 \u001b[0mX\u001b[0m\u001b[0;34m,\u001b[0m \u001b[0my\u001b[0m\u001b[0;34m,\u001b[0m \u001b[0mvalidate_separately\u001b[0m\u001b[0;34m=\u001b[0m\u001b[0;34m(\u001b[0m\u001b[0mcheck_X_params\u001b[0m\u001b[0;34m,\u001b[0m \u001b[0mcheck_y_params\u001b[0m\u001b[0;34m)\u001b[0m\u001b[0;34m\u001b[0m\u001b[0;34m\u001b[0m\u001b[0m\n\u001b[1;32m    188\u001b[0m             )\n",
            "\u001b[0;32m/usr/local/lib/python3.10/dist-packages/sklearn/base.py\u001b[0m in \u001b[0;36m_validate_data\u001b[0;34m(self, X, y, reset, validate_separately, **check_params)\u001b[0m\n\u001b[1;32m    577\u001b[0m                 \u001b[0;32mif\u001b[0m \u001b[0;34m\"estimator\"\u001b[0m \u001b[0;32mnot\u001b[0m \u001b[0;32min\u001b[0m \u001b[0mcheck_X_params\u001b[0m\u001b[0;34m:\u001b[0m\u001b[0;34m\u001b[0m\u001b[0;34m\u001b[0m\u001b[0m\n\u001b[1;32m    578\u001b[0m                     \u001b[0mcheck_X_params\u001b[0m \u001b[0;34m=\u001b[0m \u001b[0;34m{\u001b[0m\u001b[0;34m**\u001b[0m\u001b[0mdefault_check_params\u001b[0m\u001b[0;34m,\u001b[0m \u001b[0;34m**\u001b[0m\u001b[0mcheck_X_params\u001b[0m\u001b[0;34m}\u001b[0m\u001b[0;34m\u001b[0m\u001b[0;34m\u001b[0m\u001b[0m\n\u001b[0;32m--> 579\u001b[0;31m                 \u001b[0mX\u001b[0m \u001b[0;34m=\u001b[0m \u001b[0mcheck_array\u001b[0m\u001b[0;34m(\u001b[0m\u001b[0mX\u001b[0m\u001b[0;34m,\u001b[0m \u001b[0minput_name\u001b[0m\u001b[0;34m=\u001b[0m\u001b[0;34m\"X\"\u001b[0m\u001b[0;34m,\u001b[0m \u001b[0;34m**\u001b[0m\u001b[0mcheck_X_params\u001b[0m\u001b[0;34m)\u001b[0m\u001b[0;34m\u001b[0m\u001b[0;34m\u001b[0m\u001b[0m\n\u001b[0m\u001b[1;32m    580\u001b[0m                 \u001b[0;32mif\u001b[0m \u001b[0;34m\"estimator\"\u001b[0m \u001b[0;32mnot\u001b[0m \u001b[0;32min\u001b[0m \u001b[0mcheck_y_params\u001b[0m\u001b[0;34m:\u001b[0m\u001b[0;34m\u001b[0m\u001b[0;34m\u001b[0m\u001b[0m\n\u001b[1;32m    581\u001b[0m                     \u001b[0mcheck_y_params\u001b[0m \u001b[0;34m=\u001b[0m \u001b[0;34m{\u001b[0m\u001b[0;34m**\u001b[0m\u001b[0mdefault_check_params\u001b[0m\u001b[0;34m,\u001b[0m \u001b[0;34m**\u001b[0m\u001b[0mcheck_y_params\u001b[0m\u001b[0;34m}\u001b[0m\u001b[0;34m\u001b[0m\u001b[0;34m\u001b[0m\u001b[0m\n",
            "\u001b[0;32m/usr/local/lib/python3.10/dist-packages/sklearn/utils/validation.py\u001b[0m in \u001b[0;36mcheck_array\u001b[0;34m(array, accept_sparse, accept_large_sparse, dtype, order, copy, force_all_finite, ensure_2d, allow_nd, ensure_min_samples, ensure_min_features, estimator, input_name)\u001b[0m\n\u001b[1;32m    877\u001b[0m                     \u001b[0marray\u001b[0m \u001b[0;34m=\u001b[0m \u001b[0mxp\u001b[0m\u001b[0;34m.\u001b[0m\u001b[0mastype\u001b[0m\u001b[0;34m(\u001b[0m\u001b[0marray\u001b[0m\u001b[0;34m,\u001b[0m \u001b[0mdtype\u001b[0m\u001b[0;34m,\u001b[0m \u001b[0mcopy\u001b[0m\u001b[0;34m=\u001b[0m\u001b[0;32mFalse\u001b[0m\u001b[0;34m)\u001b[0m\u001b[0;34m\u001b[0m\u001b[0;34m\u001b[0m\u001b[0m\n\u001b[1;32m    878\u001b[0m                 \u001b[0;32melse\u001b[0m\u001b[0;34m:\u001b[0m\u001b[0;34m\u001b[0m\u001b[0;34m\u001b[0m\u001b[0m\n\u001b[0;32m--> 879\u001b[0;31m                     \u001b[0marray\u001b[0m \u001b[0;34m=\u001b[0m \u001b[0m_asarray_with_order\u001b[0m\u001b[0;34m(\u001b[0m\u001b[0marray\u001b[0m\u001b[0;34m,\u001b[0m \u001b[0morder\u001b[0m\u001b[0;34m=\u001b[0m\u001b[0morder\u001b[0m\u001b[0;34m,\u001b[0m \u001b[0mdtype\u001b[0m\u001b[0;34m=\u001b[0m\u001b[0mdtype\u001b[0m\u001b[0;34m,\u001b[0m \u001b[0mxp\u001b[0m\u001b[0;34m=\u001b[0m\u001b[0mxp\u001b[0m\u001b[0;34m)\u001b[0m\u001b[0;34m\u001b[0m\u001b[0;34m\u001b[0m\u001b[0m\n\u001b[0m\u001b[1;32m    880\u001b[0m             \u001b[0;32mexcept\u001b[0m \u001b[0mComplexWarning\u001b[0m \u001b[0;32mas\u001b[0m \u001b[0mcomplex_warning\u001b[0m\u001b[0;34m:\u001b[0m\u001b[0;34m\u001b[0m\u001b[0;34m\u001b[0m\u001b[0m\n\u001b[1;32m    881\u001b[0m                 raise ValueError(\n",
            "\u001b[0;32m/usr/local/lib/python3.10/dist-packages/sklearn/utils/_array_api.py\u001b[0m in \u001b[0;36m_asarray_with_order\u001b[0;34m(array, dtype, order, copy, xp)\u001b[0m\n\u001b[1;32m    183\u001b[0m     \u001b[0;32mif\u001b[0m \u001b[0mxp\u001b[0m\u001b[0;34m.\u001b[0m\u001b[0m__name__\u001b[0m \u001b[0;32min\u001b[0m \u001b[0;34m{\u001b[0m\u001b[0;34m\"numpy\"\u001b[0m\u001b[0;34m,\u001b[0m \u001b[0;34m\"numpy.array_api\"\u001b[0m\u001b[0;34m}\u001b[0m\u001b[0;34m:\u001b[0m\u001b[0;34m\u001b[0m\u001b[0;34m\u001b[0m\u001b[0m\n\u001b[1;32m    184\u001b[0m         \u001b[0;31m# Use NumPy API to support order\u001b[0m\u001b[0;34m\u001b[0m\u001b[0;34m\u001b[0m\u001b[0m\n\u001b[0;32m--> 185\u001b[0;31m         \u001b[0marray\u001b[0m \u001b[0;34m=\u001b[0m \u001b[0mnumpy\u001b[0m\u001b[0;34m.\u001b[0m\u001b[0masarray\u001b[0m\u001b[0;34m(\u001b[0m\u001b[0marray\u001b[0m\u001b[0;34m,\u001b[0m \u001b[0morder\u001b[0m\u001b[0;34m=\u001b[0m\u001b[0morder\u001b[0m\u001b[0;34m,\u001b[0m \u001b[0mdtype\u001b[0m\u001b[0;34m=\u001b[0m\u001b[0mdtype\u001b[0m\u001b[0;34m)\u001b[0m\u001b[0;34m\u001b[0m\u001b[0;34m\u001b[0m\u001b[0m\n\u001b[0m\u001b[1;32m    186\u001b[0m         \u001b[0;32mreturn\u001b[0m \u001b[0mxp\u001b[0m\u001b[0;34m.\u001b[0m\u001b[0masarray\u001b[0m\u001b[0;34m(\u001b[0m\u001b[0marray\u001b[0m\u001b[0;34m,\u001b[0m \u001b[0mcopy\u001b[0m\u001b[0;34m=\u001b[0m\u001b[0mcopy\u001b[0m\u001b[0;34m)\u001b[0m\u001b[0;34m\u001b[0m\u001b[0;34m\u001b[0m\u001b[0m\n\u001b[1;32m    187\u001b[0m     \u001b[0;32melse\u001b[0m\u001b[0;34m:\u001b[0m\u001b[0;34m\u001b[0m\u001b[0;34m\u001b[0m\u001b[0m\n",
            "\u001b[0;32m/usr/local/lib/python3.10/dist-packages/pandas/core/generic.py\u001b[0m in \u001b[0;36m__array__\u001b[0;34m(self, dtype)\u001b[0m\n\u001b[1;32m   2068\u001b[0m \u001b[0;34m\u001b[0m\u001b[0m\n\u001b[1;32m   2069\u001b[0m     \u001b[0;32mdef\u001b[0m \u001b[0m__array__\u001b[0m\u001b[0;34m(\u001b[0m\u001b[0mself\u001b[0m\u001b[0;34m,\u001b[0m \u001b[0mdtype\u001b[0m\u001b[0;34m:\u001b[0m \u001b[0mnpt\u001b[0m\u001b[0;34m.\u001b[0m\u001b[0mDTypeLike\u001b[0m \u001b[0;34m|\u001b[0m \u001b[0;32mNone\u001b[0m \u001b[0;34m=\u001b[0m \u001b[0;32mNone\u001b[0m\u001b[0;34m)\u001b[0m \u001b[0;34m->\u001b[0m \u001b[0mnp\u001b[0m\u001b[0;34m.\u001b[0m\u001b[0mndarray\u001b[0m\u001b[0;34m:\u001b[0m\u001b[0;34m\u001b[0m\u001b[0;34m\u001b[0m\u001b[0m\n\u001b[0;32m-> 2070\u001b[0;31m         \u001b[0;32mreturn\u001b[0m \u001b[0mnp\u001b[0m\u001b[0;34m.\u001b[0m\u001b[0masarray\u001b[0m\u001b[0;34m(\u001b[0m\u001b[0mself\u001b[0m\u001b[0;34m.\u001b[0m\u001b[0m_values\u001b[0m\u001b[0;34m,\u001b[0m \u001b[0mdtype\u001b[0m\u001b[0;34m=\u001b[0m\u001b[0mdtype\u001b[0m\u001b[0;34m)\u001b[0m\u001b[0;34m\u001b[0m\u001b[0;34m\u001b[0m\u001b[0m\n\u001b[0m\u001b[1;32m   2071\u001b[0m \u001b[0;34m\u001b[0m\u001b[0m\n\u001b[1;32m   2072\u001b[0m     def __array_wrap__(\n",
            "\u001b[0;31mValueError\u001b[0m: could not convert string to float: '2022-08-01'"
          ]
        }
      ]
    },
    {
      "cell_type": "markdown",
      "source": [
        "# Conclusion\n",
        "Regarding Netflix userbase, the following factors have been observed:\n",
        "- Clusters exhibit varying gender distributions, with some clusters having a balanced distribution while others show differences in male and female users.\n",
        "\n",
        "- Cluster 3 comprises older users (average age of 39) with the longest average subscription period (approximately 580 days), indicating a loyal and committed subscriber base.\n",
        "\n",
        "- Cluster 4 represents younger users (average age of 37) with a relatively short average subscription period (around 107 days), suggesting lower engagement.\n",
        "\n",
        "- Cluster 6, despite having the lowest average age (35), has a significant average subscription period (about 455 days), indicating early subscription initiation and sustained engagement.\n",
        "\n",
        "- Clusters 3 and 4, along with Cluster 6, have lower device usage, potentially representing niche user segments.\n",
        "\n",
        "- While there isn't a significant association between subscription type and gender, interesting connections exist with age and country.\n",
        "\n",
        "- American users contribute the highest monthly revenue, suggesting strong popularity and adoption of Netflix in the United States."
      ],
      "metadata": {
        "id": "IhUX2N6PYu99"
      }
    }
  ]
}